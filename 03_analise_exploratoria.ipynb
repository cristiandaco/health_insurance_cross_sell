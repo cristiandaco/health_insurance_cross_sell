{
 "cells": [
  {
   "cell_type": "markdown",
   "id": "b1b19cd3",
   "metadata": {
    "heading_collapsed": true
   },
   "source": [
    "# 0.0. INTRODUCAO"
   ]
  },
  {
   "cell_type": "markdown",
   "id": "dfa4ec98",
   "metadata": {
    "heading_collapsed": true,
    "hidden": true
   },
   "source": [
    "## 0.1. BIBLIOTECAS"
   ]
  },
  {
   "cell_type": "code",
   "execution_count": 1,
   "id": "db50b0d1",
   "metadata": {
    "ExecuteTime": {
     "end_time": "2021-12-02T10:44:47.582620Z",
     "start_time": "2021-12-02T10:44:43.557458Z"
    },
    "hidden": true
   },
   "outputs": [],
   "source": [
    "import pandas            as pd\n",
    "import numpy             as np\n",
    "import seaborn           as sns\n",
    "import matplotlib.pyplot as plt\n",
    "\n",
    "import warnings\n",
    "\n",
    "warnings.filterwarnings('ignore')"
   ]
  },
  {
   "cell_type": "markdown",
   "id": "b1d74e8e",
   "metadata": {
    "heading_collapsed": true,
    "hidden": true
   },
   "source": [
    "## 0.2. FUNCOES DE AUXILIARES"
   ]
  },
  {
   "cell_type": "code",
   "execution_count": null,
   "id": "7fa2110a",
   "metadata": {
    "hidden": true
   },
   "outputs": [],
   "source": []
  },
  {
   "cell_type": "markdown",
   "id": "0bbf5be7",
   "metadata": {
    "heading_collapsed": true,
    "hidden": true
   },
   "source": [
    "## 0.3. CARREGAMENTO DOS DADOS"
   ]
  },
  {
   "cell_type": "code",
   "execution_count": 2,
   "id": "63149e92",
   "metadata": {
    "ExecuteTime": {
     "end_time": "2021-12-02T10:44:47.983703Z",
     "start_time": "2021-12-02T10:44:47.583675Z"
    },
    "hidden": true
   },
   "outputs": [
    {
     "data": {
      "text/html": [
       "<div>\n",
       "<style scoped>\n",
       "    .dataframe tbody tr th:only-of-type {\n",
       "        vertical-align: middle;\n",
       "    }\n",
       "\n",
       "    .dataframe tbody tr th {\n",
       "        vertical-align: top;\n",
       "    }\n",
       "\n",
       "    .dataframe thead th {\n",
       "        text-align: right;\n",
       "    }\n",
       "</style>\n",
       "<table border=\"1\" class=\"dataframe\">\n",
       "  <thead>\n",
       "    <tr style=\"text-align: right;\">\n",
       "      <th></th>\n",
       "      <th>id</th>\n",
       "      <th>Gender</th>\n",
       "      <th>Age</th>\n",
       "      <th>Driving_License</th>\n",
       "      <th>Region_Code</th>\n",
       "      <th>Previously_Insured</th>\n",
       "      <th>Vehicle_Age</th>\n",
       "      <th>Vehicle_Damage</th>\n",
       "      <th>Annual_Premium</th>\n",
       "      <th>Policy_Sales_Channel</th>\n",
       "      <th>Vintage</th>\n",
       "      <th>Response</th>\n",
       "    </tr>\n",
       "  </thead>\n",
       "  <tbody>\n",
       "    <tr>\n",
       "      <th>0</th>\n",
       "      <td>1</td>\n",
       "      <td>Male</td>\n",
       "      <td>44</td>\n",
       "      <td>1</td>\n",
       "      <td>28.0</td>\n",
       "      <td>0</td>\n",
       "      <td>&gt; 2 Years</td>\n",
       "      <td>Yes</td>\n",
       "      <td>40454.0</td>\n",
       "      <td>26.0</td>\n",
       "      <td>217</td>\n",
       "      <td>1</td>\n",
       "    </tr>\n",
       "    <tr>\n",
       "      <th>1</th>\n",
       "      <td>2</td>\n",
       "      <td>Male</td>\n",
       "      <td>76</td>\n",
       "      <td>1</td>\n",
       "      <td>3.0</td>\n",
       "      <td>0</td>\n",
       "      <td>1-2 Year</td>\n",
       "      <td>No</td>\n",
       "      <td>33536.0</td>\n",
       "      <td>26.0</td>\n",
       "      <td>183</td>\n",
       "      <td>0</td>\n",
       "    </tr>\n",
       "    <tr>\n",
       "      <th>2</th>\n",
       "      <td>3</td>\n",
       "      <td>Male</td>\n",
       "      <td>47</td>\n",
       "      <td>1</td>\n",
       "      <td>28.0</td>\n",
       "      <td>0</td>\n",
       "      <td>&gt; 2 Years</td>\n",
       "      <td>Yes</td>\n",
       "      <td>38294.0</td>\n",
       "      <td>26.0</td>\n",
       "      <td>27</td>\n",
       "      <td>1</td>\n",
       "    </tr>\n",
       "    <tr>\n",
       "      <th>3</th>\n",
       "      <td>4</td>\n",
       "      <td>Male</td>\n",
       "      <td>21</td>\n",
       "      <td>1</td>\n",
       "      <td>11.0</td>\n",
       "      <td>1</td>\n",
       "      <td>&lt; 1 Year</td>\n",
       "      <td>No</td>\n",
       "      <td>28619.0</td>\n",
       "      <td>152.0</td>\n",
       "      <td>203</td>\n",
       "      <td>0</td>\n",
       "    </tr>\n",
       "    <tr>\n",
       "      <th>4</th>\n",
       "      <td>5</td>\n",
       "      <td>Female</td>\n",
       "      <td>29</td>\n",
       "      <td>1</td>\n",
       "      <td>41.0</td>\n",
       "      <td>1</td>\n",
       "      <td>&lt; 1 Year</td>\n",
       "      <td>No</td>\n",
       "      <td>27496.0</td>\n",
       "      <td>152.0</td>\n",
       "      <td>39</td>\n",
       "      <td>0</td>\n",
       "    </tr>\n",
       "  </tbody>\n",
       "</table>\n",
       "</div>"
      ],
      "text/plain": [
       "   id  Gender  Age  Driving_License  Region_Code  Previously_Insured  \\\n",
       "0   1    Male   44                1         28.0                   0   \n",
       "1   2    Male   76                1          3.0                   0   \n",
       "2   3    Male   47                1         28.0                   0   \n",
       "3   4    Male   21                1         11.0                   1   \n",
       "4   5  Female   29                1         41.0                   1   \n",
       "\n",
       "  Vehicle_Age Vehicle_Damage  Annual_Premium  Policy_Sales_Channel  Vintage  \\\n",
       "0   > 2 Years            Yes         40454.0                  26.0      217   \n",
       "1    1-2 Year             No         33536.0                  26.0      183   \n",
       "2   > 2 Years            Yes         38294.0                  26.0       27   \n",
       "3    < 1 Year             No         28619.0                 152.0      203   \n",
       "4    < 1 Year             No         27496.0                 152.0       39   \n",
       "\n",
       "   Response  \n",
       "0         1  \n",
       "1         0  \n",
       "2         1  \n",
       "3         0  \n",
       "4         0  "
      ]
     },
     "execution_count": 2,
     "metadata": {},
     "output_type": "execute_result"
    }
   ],
   "source": [
    "df = pd.read_csv( 'train.csv' )\n",
    "df.head()"
   ]
  },
  {
   "cell_type": "markdown",
   "id": "186b87f0",
   "metadata": {
    "heading_collapsed": true
   },
   "source": [
    "# 1.0. DESCRICAO DOS DADOS"
   ]
  },
  {
   "cell_type": "code",
   "execution_count": 3,
   "id": "8d8ddecd",
   "metadata": {
    "ExecuteTime": {
     "end_time": "2021-12-02T10:44:48.016552Z",
     "start_time": "2021-12-02T10:44:47.983992Z"
    },
    "hidden": true
   },
   "outputs": [],
   "source": [
    "df1 = df.copy()"
   ]
  },
  {
   "cell_type": "markdown",
   "id": "5a429386",
   "metadata": {
    "heading_collapsed": true,
    "hidden": true
   },
   "source": [
    "## 1.1. DIMENSAO DOS DADOS"
   ]
  },
  {
   "cell_type": "code",
   "execution_count": 4,
   "id": "b8bcef0c",
   "metadata": {
    "ExecuteTime": {
     "end_time": "2021-12-02T10:44:48.034401Z",
     "start_time": "2021-12-02T10:44:48.016552Z"
    },
    "hidden": true
   },
   "outputs": [
    {
     "name": "stdout",
     "output_type": "stream",
     "text": [
      "Numero de linhas:  381109\n",
      "Numero de colunas: 12\n"
     ]
    }
   ],
   "source": [
    "print( 'Numero de linhas:  {}'.format( df1.shape[0] ) )\n",
    "print( 'Numero de colunas: {}'.format( df1.shape[1] ) )"
   ]
  },
  {
   "cell_type": "markdown",
   "id": "eb342a62",
   "metadata": {
    "heading_collapsed": true,
    "hidden": true
   },
   "source": [
    "## 1.2. TIPOS DE DADOS"
   ]
  },
  {
   "cell_type": "code",
   "execution_count": 5,
   "id": "38aa2606",
   "metadata": {
    "ExecuteTime": {
     "end_time": "2021-12-02T10:44:48.058934Z",
     "start_time": "2021-12-02T10:44:48.037285Z"
    },
    "hidden": true
   },
   "outputs": [
    {
     "data": {
      "text/plain": [
       "id                        int64\n",
       "Gender                   object\n",
       "Age                       int64\n",
       "Driving_License           int64\n",
       "Region_Code             float64\n",
       "Previously_Insured        int64\n",
       "Vehicle_Age              object\n",
       "Vehicle_Damage           object\n",
       "Annual_Premium          float64\n",
       "Policy_Sales_Channel    float64\n",
       "Vintage                   int64\n",
       "Response                  int64\n",
       "dtype: object"
      ]
     },
     "execution_count": 5,
     "metadata": {},
     "output_type": "execute_result"
    }
   ],
   "source": [
    "df1.dtypes"
   ]
  },
  {
   "cell_type": "markdown",
   "id": "198613fe",
   "metadata": {
    "heading_collapsed": true,
    "hidden": true
   },
   "source": [
    "## 1.3 CHECK NA"
   ]
  },
  {
   "cell_type": "code",
   "execution_count": 6,
   "id": "8b0d90fb",
   "metadata": {
    "ExecuteTime": {
     "end_time": "2021-12-02T10:44:48.161076Z",
     "start_time": "2021-12-02T10:44:48.064053Z"
    },
    "hidden": true
   },
   "outputs": [
    {
     "data": {
      "text/plain": [
       "id                      0\n",
       "Gender                  0\n",
       "Age                     0\n",
       "Driving_License         0\n",
       "Region_Code             0\n",
       "Previously_Insured      0\n",
       "Vehicle_Age             0\n",
       "Vehicle_Damage          0\n",
       "Annual_Premium          0\n",
       "Policy_Sales_Channel    0\n",
       "Vintage                 0\n",
       "Response                0\n",
       "dtype: int64"
      ]
     },
     "execution_count": 6,
     "metadata": {},
     "output_type": "execute_result"
    }
   ],
   "source": [
    "df1.isna().sum()"
   ]
  },
  {
   "cell_type": "markdown",
   "id": "826a3357",
   "metadata": {
    "heading_collapsed": true,
    "hidden": true
   },
   "source": [
    "## 1.4. ESTATISTICA DESCRITIVA"
   ]
  },
  {
   "cell_type": "code",
   "execution_count": 7,
   "id": "83645ebc",
   "metadata": {
    "ExecuteTime": {
     "end_time": "2021-12-02T10:44:48.200296Z",
     "start_time": "2021-12-02T10:44:48.161076Z"
    },
    "hidden": true
   },
   "outputs": [],
   "source": [
    "num_atributos = df1.select_dtypes( include = ['int64', 'float64'] )\n",
    "cat_atributos = df1.select_dtypes( exclude = ['int64', 'float64'] )"
   ]
  },
  {
   "cell_type": "markdown",
   "id": "12e7b88a",
   "metadata": {
    "ExecuteTime": {
     "end_time": "2021-11-30T23:38:32.820060Z",
     "start_time": "2021-11-30T23:38:32.795444Z"
    },
    "heading_collapsed": true,
    "hidden": true
   },
   "source": [
    "### 1.4.1. ATRIBUTOS NUMERCOS"
   ]
  },
  {
   "cell_type": "code",
   "execution_count": 8,
   "id": "1323e3e3",
   "metadata": {
    "ExecuteTime": {
     "end_time": "2021-12-02T10:44:49.140189Z",
     "start_time": "2021-12-02T10:44:48.202017Z"
    },
    "hidden": true,
    "scrolled": true
   },
   "outputs": [
    {
     "data": {
      "text/html": [
       "<div>\n",
       "<style scoped>\n",
       "    .dataframe tbody tr th:only-of-type {\n",
       "        vertical-align: middle;\n",
       "    }\n",
       "\n",
       "    .dataframe tbody tr th {\n",
       "        vertical-align: top;\n",
       "    }\n",
       "\n",
       "    .dataframe thead th {\n",
       "        text-align: right;\n",
       "    }\n",
       "</style>\n",
       "<table border=\"1\" class=\"dataframe\">\n",
       "  <thead>\n",
       "    <tr style=\"text-align: right;\">\n",
       "      <th></th>\n",
       "      <th>atributos</th>\n",
       "      <th>min</th>\n",
       "      <th>max</th>\n",
       "      <th>range</th>\n",
       "      <th>mean</th>\n",
       "      <th>median</th>\n",
       "      <th>std</th>\n",
       "      <th>skew</th>\n",
       "      <th>kurtosis</th>\n",
       "    </tr>\n",
       "  </thead>\n",
       "  <tbody>\n",
       "    <tr>\n",
       "      <th>0</th>\n",
       "      <td>id</td>\n",
       "      <td>1.0</td>\n",
       "      <td>381109.0</td>\n",
       "      <td>381108.0</td>\n",
       "      <td>190555.000000</td>\n",
       "      <td>190555.0</td>\n",
       "      <td>110016.691870</td>\n",
       "      <td>9.443274e-16</td>\n",
       "      <td>-1.200000</td>\n",
       "    </tr>\n",
       "    <tr>\n",
       "      <th>1</th>\n",
       "      <td>Age</td>\n",
       "      <td>20.0</td>\n",
       "      <td>85.0</td>\n",
       "      <td>65.0</td>\n",
       "      <td>38.822584</td>\n",
       "      <td>36.0</td>\n",
       "      <td>15.511591</td>\n",
       "      <td>6.725390e-01</td>\n",
       "      <td>-0.565655</td>\n",
       "    </tr>\n",
       "    <tr>\n",
       "      <th>2</th>\n",
       "      <td>Driving_License</td>\n",
       "      <td>0.0</td>\n",
       "      <td>1.0</td>\n",
       "      <td>1.0</td>\n",
       "      <td>0.997869</td>\n",
       "      <td>1.0</td>\n",
       "      <td>0.046109</td>\n",
       "      <td>-2.159518e+01</td>\n",
       "      <td>464.354302</td>\n",
       "    </tr>\n",
       "    <tr>\n",
       "      <th>3</th>\n",
       "      <td>Region_Code</td>\n",
       "      <td>0.0</td>\n",
       "      <td>52.0</td>\n",
       "      <td>52.0</td>\n",
       "      <td>26.388807</td>\n",
       "      <td>28.0</td>\n",
       "      <td>13.229871</td>\n",
       "      <td>-1.152664e-01</td>\n",
       "      <td>-0.867857</td>\n",
       "    </tr>\n",
       "    <tr>\n",
       "      <th>4</th>\n",
       "      <td>Previously_Insured</td>\n",
       "      <td>0.0</td>\n",
       "      <td>1.0</td>\n",
       "      <td>1.0</td>\n",
       "      <td>0.458210</td>\n",
       "      <td>0.0</td>\n",
       "      <td>0.498251</td>\n",
       "      <td>1.677471e-01</td>\n",
       "      <td>-1.971871</td>\n",
       "    </tr>\n",
       "    <tr>\n",
       "      <th>5</th>\n",
       "      <td>Annual_Premium</td>\n",
       "      <td>2630.0</td>\n",
       "      <td>540165.0</td>\n",
       "      <td>537535.0</td>\n",
       "      <td>30564.389581</td>\n",
       "      <td>31669.0</td>\n",
       "      <td>17213.132474</td>\n",
       "      <td>1.766087e+00</td>\n",
       "      <td>34.004569</td>\n",
       "    </tr>\n",
       "    <tr>\n",
       "      <th>6</th>\n",
       "      <td>Policy_Sales_Channel</td>\n",
       "      <td>1.0</td>\n",
       "      <td>163.0</td>\n",
       "      <td>162.0</td>\n",
       "      <td>112.034295</td>\n",
       "      <td>133.0</td>\n",
       "      <td>54.203924</td>\n",
       "      <td>-9.000081e-01</td>\n",
       "      <td>-0.970810</td>\n",
       "    </tr>\n",
       "    <tr>\n",
       "      <th>7</th>\n",
       "      <td>Vintage</td>\n",
       "      <td>10.0</td>\n",
       "      <td>299.0</td>\n",
       "      <td>289.0</td>\n",
       "      <td>154.347397</td>\n",
       "      <td>154.0</td>\n",
       "      <td>83.671194</td>\n",
       "      <td>3.029517e-03</td>\n",
       "      <td>-1.200688</td>\n",
       "    </tr>\n",
       "    <tr>\n",
       "      <th>8</th>\n",
       "      <td>Response</td>\n",
       "      <td>0.0</td>\n",
       "      <td>1.0</td>\n",
       "      <td>1.0</td>\n",
       "      <td>0.122563</td>\n",
       "      <td>0.0</td>\n",
       "      <td>0.327935</td>\n",
       "      <td>2.301906e+00</td>\n",
       "      <td>3.298788</td>\n",
       "    </tr>\n",
       "  </tbody>\n",
       "</table>\n",
       "</div>"
      ],
      "text/plain": [
       "              atributos     min       max     range           mean    median  \\\n",
       "0                    id     1.0  381109.0  381108.0  190555.000000  190555.0   \n",
       "1                   Age    20.0      85.0      65.0      38.822584      36.0   \n",
       "2       Driving_License     0.0       1.0       1.0       0.997869       1.0   \n",
       "3           Region_Code     0.0      52.0      52.0      26.388807      28.0   \n",
       "4    Previously_Insured     0.0       1.0       1.0       0.458210       0.0   \n",
       "5        Annual_Premium  2630.0  540165.0  537535.0   30564.389581   31669.0   \n",
       "6  Policy_Sales_Channel     1.0     163.0     162.0     112.034295     133.0   \n",
       "7               Vintage    10.0     299.0     289.0     154.347397     154.0   \n",
       "8              Response     0.0       1.0       1.0       0.122563       0.0   \n",
       "\n",
       "             std          skew    kurtosis  \n",
       "0  110016.691870  9.443274e-16   -1.200000  \n",
       "1      15.511591  6.725390e-01   -0.565655  \n",
       "2       0.046109 -2.159518e+01  464.354302  \n",
       "3      13.229871 -1.152664e-01   -0.867857  \n",
       "4       0.498251  1.677471e-01   -1.971871  \n",
       "5   17213.132474  1.766087e+00   34.004569  \n",
       "6      54.203924 -9.000081e-01   -0.970810  \n",
       "7      83.671194  3.029517e-03   -1.200688  \n",
       "8       0.327935  2.301906e+00    3.298788  "
      ]
     },
     "execution_count": 8,
     "metadata": {},
     "output_type": "execute_result"
    }
   ],
   "source": [
    "# tendencia central - mean, median\n",
    "tc1 = pd.DataFrame( num_atributos.apply( np.mean ) ).T\n",
    "tc2 = pd.DataFrame( num_atributos.apply( np.median ) ).T\n",
    "\n",
    "# dispersao - max, min, range, std, skew, kurtosis\n",
    "d1 = pd.DataFrame( num_atributos.apply( max ) ).T\n",
    "d2 = pd.DataFrame( num_atributos.apply( min ) ).T\n",
    "d3 = pd.DataFrame( num_atributos.apply( lambda x: x.max() - x.min() ) ).T\n",
    "d4 = pd.DataFrame( num_atributos.apply( np.std ) ).T\n",
    "d5 = pd.DataFrame( num_atributos.apply( lambda x: x.skew() ) ).T\n",
    "d6 = pd.DataFrame( num_atributos.apply( lambda x: x.kurtosis() ) ).T\n",
    "\n",
    "#concat\n",
    "\n",
    "m = pd.concat( [ d2, d1, d3, tc1, tc2, d4, d5, d6 ] ).T.reset_index()\n",
    "m.columns = ['atributos', 'min', 'max', 'range', 'mean', 'median', 'std', 'skew', 'kurtosis']\n",
    "m"
   ]
  },
  {
   "cell_type": "markdown",
   "id": "2db26829",
   "metadata": {
    "heading_collapsed": true,
    "hidden": true
   },
   "source": [
    "### 1.4.2. ATRIBUTOS CATEGORICOS"
   ]
  },
  {
   "cell_type": "code",
   "execution_count": 9,
   "id": "e5cd5c7b",
   "metadata": {
    "ExecuteTime": {
     "end_time": "2021-12-02T10:44:49.242696Z",
     "start_time": "2021-12-02T10:44:49.140189Z"
    },
    "hidden": true
   },
   "outputs": [
    {
     "data": {
      "text/plain": [
       "Gender            2\n",
       "Vehicle_Age       3\n",
       "Vehicle_Damage    2\n",
       "dtype: int64"
      ]
     },
     "execution_count": 9,
     "metadata": {},
     "output_type": "execute_result"
    }
   ],
   "source": [
    "cat_atributos.apply( lambda x: x.unique().shape[0] )"
   ]
  },
  {
   "cell_type": "markdown",
   "id": "90368e2c",
   "metadata": {},
   "source": [
    "# 2.0. FEATURE ENGENEERING"
   ]
  },
  {
   "cell_type": "code",
   "execution_count": 10,
   "id": "aed9423f",
   "metadata": {
    "ExecuteTime": {
     "end_time": "2021-12-02T10:44:49.266880Z",
     "start_time": "2021-12-02T10:44:49.242696Z"
    }
   },
   "outputs": [],
   "source": [
    "df2 = df1.copy()"
   ]
  },
  {
   "cell_type": "markdown",
   "id": "42176a5b",
   "metadata": {
    "ExecuteTime": {
     "end_time": "2021-12-01T00:27:21.374311Z",
     "start_time": "2021-12-01T00:27:21.298700Z"
    }
   },
   "source": [
    "## 2.1. HIPOTESES DE GENERO"
   ]
  },
  {
   "cell_type": "markdown",
   "id": "b9eea46c",
   "metadata": {},
   "source": [
    "- 1 Deveria existir mais clientes do genero masculino com seguro de veículo do que do genero feminino\n",
    "- 2 Clientes do genero feminino devem possuir carros mais novos\n",
    "- 3 Clientes do genero masculino devem possuir 70% dos veículos que já se envolveram em acidentes\n",
    "- 4 Clientes do sexo feminino deveriam ter mais interesse em adquirir o seguro do que cliente do sexo masculino\n",
    "- 5 Clientes do sexo masculino precisam pagar 10% a mais de premio anual do que clientes do sexo feminino"
   ]
  },
  {
   "cell_type": "markdown",
   "id": "d1eee5c9",
   "metadata": {
    "heading_collapsed": true
   },
   "source": [
    "## 2.2. HIPOTESES DE IDADE"
   ]
  },
  {
   "cell_type": "markdown",
   "id": "ce96afc5",
   "metadata": {
    "ExecuteTime": {
     "end_time": "2021-12-01T00:39:15.965479Z",
     "start_time": "2021-12-01T00:39:15.950116Z"
    },
    "hidden": true
   },
   "source": [
    "- 6 O numero de cliente que possue seguro é 20% menor entre os mais jovens (35 ano ou menos) em relação aos clientes mais velhos\n",
    "- 7 Clientes mais velhos (35 anos ou mais) devem possuir carros mais novos do que cliente mais jovens\n",
    "- 8 Clientes com 35 anos ou menos deveriam se envolver em 90% dos acidentes.\n",
    "- 9 Cliente mais velhos devem ter 10% mais interesse em adquirir o seguro do que clientes mais jovens"
   ]
  },
  {
   "cell_type": "markdown",
   "id": "86283a1c",
   "metadata": {
    "heading_collapsed": true
   },
   "source": [
    "## 2.3. HIPOTESES OUTRAS"
   ]
  },
  {
   "cell_type": "markdown",
   "id": "279ce68a",
   "metadata": {
    "hidden": true
   },
   "source": [
    "- 10 Clientes que já possuem seguro, não têm interesse em adquirir outro seguro\n",
    "- 11 Clientes a menos tempo como cliente, possuem 20% mais interesse em adquirir o seguro\n",
    "- 12 Clientes com Veiculos mais novos possuem mais interesse em adquirir o seguro"
   ]
  },
  {
   "cell_type": "markdown",
   "id": "785dc3fd",
   "metadata": {},
   "source": [
    "## 2.4. FEATURE ENGENEERING"
   ]
  },
  {
   "cell_type": "code",
   "execution_count": 66,
   "id": "4ce0212b",
   "metadata": {
    "ExecuteTime": {
     "end_time": "2021-12-02T11:48:32.529877Z",
     "start_time": "2021-12-02T11:48:32.269180Z"
    }
   },
   "outputs": [],
   "source": [
    "#feature insured\n",
    "df2['Insured'] = df2['Previously_Insured'].apply( lambda x: 'yes' if x == 1 else\n",
    "                                                            'no')\n",
    "\n",
    "#feature age_vehicle\n",
    "df2['Age_Vehicle'] = df2['Vehicle_Age'].apply( lambda x: 'old' if x == '> 2 Years' else\n",
    "                                                         'used car' if x == '1-2 Year' else\n",
    "                                                         'new')\n"
   ]
  },
  {
   "cell_type": "markdown",
   "id": "b0ba28b3",
   "metadata": {},
   "source": [
    "# 3.0. ANALISE EXPLORATORIA"
   ]
  },
  {
   "cell_type": "code",
   "execution_count": 68,
   "id": "1d1c2bb9",
   "metadata": {
    "ExecuteTime": {
     "end_time": "2021-12-02T11:48:46.250169Z",
     "start_time": "2021-12-02T11:48:46.160294Z"
    }
   },
   "outputs": [],
   "source": [
    "df3 = df2.copy()"
   ]
  },
  {
   "cell_type": "markdown",
   "id": "a662c544",
   "metadata": {
    "ExecuteTime": {
     "end_time": "2021-12-01T11:16:50.549612Z",
     "start_time": "2021-12-01T11:16:50.499217Z"
    }
   },
   "source": [
    "## 3.1. ANALISE UNIVARIADA"
   ]
  },
  {
   "cell_type": "markdown",
   "id": "a6f7ffea",
   "metadata": {
    "heading_collapsed": true
   },
   "source": [
    "### 3.1.1. VARIAVEL NUMERICA"
   ]
  },
  {
   "cell_type": "code",
   "execution_count": 41,
   "id": "fd28de78",
   "metadata": {
    "ExecuteTime": {
     "end_time": "2021-12-02T11:22:04.182243Z",
     "start_time": "2021-12-02T11:22:02.774630Z"
    },
    "hidden": true
   },
   "outputs": [
    {
     "data": {
      "image/png": "[encoded data removed]",
      "text/plain": [
       "<Figure size 1152x720 with 9 Axes>"
      ]
     },
     "metadata": {
      "needs_background": "light"
     },
     "output_type": "display_data"
    }
   ],
   "source": [
    "num_atributos.hist( grid = False, figsize = (16, 10), bins = 25 );"
   ]
  },
  {
   "cell_type": "markdown",
   "id": "4ebb1098",
   "metadata": {
    "ExecuteTime": {
     "end_time": "2021-12-01T11:22:26.556411Z",
     "start_time": "2021-12-01T11:22:26.526449Z"
    },
    "heading_collapsed": true
   },
   "source": [
    "### 3.1.2. VARIAVEL CATEGORICA"
   ]
  },
  {
   "cell_type": "code",
   "execution_count": 42,
   "id": "2f9f7f11",
   "metadata": {
    "ExecuteTime": {
     "end_time": "2021-12-02T11:22:14.511193Z",
     "start_time": "2021-12-02T11:22:04.182243Z"
    },
    "hidden": true
   },
   "outputs": [
    {
     "data": {
      "image/png": "[encoded data removed]",
      "text/plain": [
       "<Figure size 1152x1152 with 6 Axes>"
      ]
     },
     "metadata": {
      "needs_background": "light"
     },
     "output_type": "display_data"
    }
   ],
   "source": [
    "plt.figure( figsize = ( 16, 16 ) )\n",
    "plt.subplot( 3, 2, 1 )\n",
    "sns.countplot( df3['Gender'] );\n",
    "\n",
    "plt.subplot( 3, 2, 2 )\n",
    "sns.kdeplot( df3[df3['Gender'] == 'Male']['Annual_Premium'], shade = True )\n",
    "sns.kdeplot( df3[df3['Gender'] == 'Female']['Annual_Premium'], shade = True )\n",
    "plt.legend( labels = ['Male', 'Female'] );\n",
    "\n",
    "plt.subplot( 3, 2, 3 )\n",
    "sns.countplot( df3['Vehicle_Age'] );\n",
    "\n",
    "plt.subplot( 3, 2, 4 )\n",
    "sns.kdeplot( df3[df3['Vehicle_Age'] == '> 2 Years']['Annual_Premium'], shade = True )\n",
    "sns.kdeplot( df3[df3['Vehicle_Age'] == '1-2 Year']['Annual_Premium'], shade = True )\n",
    "sns.kdeplot( df3[df3['Vehicle_Age'] == '< 1 Year']['Annual_Premium'], shade = True )\n",
    "plt.legend( labels = ['> 2 Years', '1-2 Year', '< 1 Year'] );\n",
    "\n",
    "plt.subplot( 3, 2, 5 )\n",
    "sns.countplot( df3['Vehicle_Damage'] );\n",
    "\n",
    "plt.subplot( 3, 2, 6 )\n",
    "sns.kdeplot( df3[df3['Vehicle_Damage'] == 'Yes']['Annual_Premium'], shade = True )\n",
    "sns.kdeplot( df3[df3['Vehicle_Damage'] == 'No']['Annual_Premium'], shade = True )\n",
    "plt.legend( labels = ['Yes', 'No'] );"
   ]
  },
  {
   "cell_type": "markdown",
   "id": "2854da7d",
   "metadata": {},
   "source": [
    "## 3.2. ANALISE BIVARIADA"
   ]
  },
  {
   "cell_type": "markdown",
   "id": "a20b7a2b",
   "metadata": {
    "heading_collapsed": true
   },
   "source": [
    "### 3.2.1. 1) Deveria existir mais clientes do genero masculino com seguro de veículo do que do genero feminino\n",
    "\n",
    "**Falso.** Apesar de representarem 45,9% dos clientes, clientes do sexo feminino representam 50,3% dos clientes que já possuem seguro."
   ]
  },
  {
   "cell_type": "code",
   "execution_count": 43,
   "id": "fea17cc1",
   "metadata": {
    "ExecuteTime": {
     "end_time": "2021-12-02T11:22:14.763321Z",
     "start_time": "2021-12-02T11:22:14.511799Z"
    },
    "hidden": true,
    "hide_input": true
   },
   "outputs": [
    {
     "data": {
      "image/png": "[encoded data removed]",
      "text/plain": [
       "<Figure size 720x432 with 1 Axes>"
      ]
     },
     "metadata": {
      "needs_background": "light"
     },
     "output_type": "display_data"
    }
   ],
   "source": [
    "aux1 = df3[['Gender', 'Previously_Insured', 'Insured']].groupby( ['Insured', 'Gender'] ).count().reset_index()\n",
    "\n",
    "plt.figure( figsize = ( 10,6 ) )\n",
    "sns.barplot( x = 'Insured', y = 'Previously_Insured', hue = 'Gender', data = aux1 );"
   ]
  },
  {
   "cell_type": "markdown",
   "id": "d8514c61",
   "metadata": {
    "heading_collapsed": true,
    "hide_input": false
   },
   "source": [
    "### 3.2.2. 2) Clientes do genero feminino devem possuir carros mais novos\n",
    "**Verdadeiro.** Mulher têm mais preferência por carros novos e homens por carros usados"
   ]
  },
  {
   "cell_type": "code",
   "execution_count": 57,
   "id": "82629d09",
   "metadata": {
    "ExecuteTime": {
     "end_time": "2021-12-02T11:37:59.312062Z",
     "start_time": "2021-12-02T11:37:58.917821Z"
    },
    "hidden": true,
    "hide_input": true
   },
   "outputs": [
    {
     "data": {
      "image/png": "[encoded data removed]",
      "text/plain": [
       "<Figure size 720x432 with 1 Axes>"
      ]
     },
     "metadata": {
      "needs_background": "light"
     },
     "output_type": "display_data"
    }
   ],
   "source": [
    "aux2 = df3[['Gender', 'Vehicle_Age', 'Age_Vehicle']].groupby( ['Gender', 'Age_Vehicle'] ).count().reset_index().sort_values( 'Vehicle_Age', ascending = False)\n",
    "\n",
    "plt.figure( figsize = ( 10,6 ) )\n",
    "sns.barplot( x = 'Gender', y = 'Vehicle_Age', hue = 'Age_Vehicle', data = aux2 );"
   ]
  },
  {
   "cell_type": "markdown",
   "id": "c78c0eb7",
   "metadata": {
    "heading_collapsed": true
   },
   "source": [
    "### 3.2.3. 3) Clientes do genero masculino devem possuir 70% dos veículos que já se envolveram em acidentes\n",
    "**Verdadeiro.** Homens possuem 58.6% dos veículos que já se envolveram em acidentes"
   ]
  },
  {
   "cell_type": "code",
   "execution_count": 74,
   "id": "0af8650c",
   "metadata": {
    "ExecuteTime": {
     "end_time": "2021-12-02T11:53:00.070566Z",
     "start_time": "2021-12-02T11:52:59.837437Z"
    },
    "hidden": true,
    "hide_input": true
   },
   "outputs": [
    {
     "data": {
      "image/png": "[encoded data removed]",
      "text/plain": [
       "<Figure size 720x432 with 1 Axes>"
      ]
     },
     "metadata": {
      "needs_background": "light"
     },
     "output_type": "display_data"
    }
   ],
   "source": [
    "aux = df3[df3['Vehicle_Damage'] == 'Yes']\n",
    "aux3 = aux[['Gender', 'Vehicle_Damage']].groupby( 'Gender' ).count().reset_index()\n",
    "\n",
    "plt.figure( figsize = ( 10,6 ) )\n",
    "sns.barplot( x = 'Gender', y = 'Vehicle_Damage', data = aux3 );"
   ]
  },
  {
   "cell_type": "markdown",
   "id": "b761f0ea",
   "metadata": {},
   "source": [
    "### 3.2.4. 4) Clientes do sexo feminino deveriam ter mais interesse em adquirir o seguro do que cliente do sexo masculino"
   ]
  },
  {
   "cell_type": "code",
   "execution_count": null,
   "id": "f919db00",
   "metadata": {},
   "outputs": [],
   "source": []
  },
  {
   "cell_type": "markdown",
   "id": "ed661064",
   "metadata": {},
   "source": [
    "### 3.2.5. 5) Clientes do sexo masculino precisam pagar 10% a mais de premio anual do que clientes do sexo feminino"
   ]
  },
  {
   "cell_type": "code",
   "execution_count": null,
   "id": "953bb4f4",
   "metadata": {},
   "outputs": [],
   "source": []
  },
  {
   "cell_type": "code",
   "execution_count": null,
   "id": "5ba7ff70",
   "metadata": {},
   "outputs": [],
   "source": []
  },
  {
   "cell_type": "code",
   "execution_count": null,
   "id": "93fb4959",
   "metadata": {},
   "outputs": [],
   "source": []
  }
 ],
 "metadata": {
  "kernelspec": {
   "display_name": "Python 3 (ipykernel)",
   "language": "python",
   "name": "python3"
  },
  "language_info": {
   "codemirror_mode": {
    "name": "ipython",
    "version": 3
   },
   "file_extension": ".py",
   "mimetype": "text/x-python",
   "name": "python",
   "nbconvert_exporter": "python",
   "pygments_lexer": "ipython3",
   "version": "3.8.12"
  }
 },
 "nbformat": 4,
 "nbformat_minor": 5
}
