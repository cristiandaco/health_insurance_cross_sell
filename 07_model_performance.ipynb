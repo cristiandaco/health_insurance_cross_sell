{
 "cells": [
  {
   "cell_type": "markdown",
   "id": "b1b19cd3",
   "metadata": {
    "heading_collapsed": true
   },
   "source": [
    "# 0.0. INTRODUCAO"
   ]
  },
  {
   "cell_type": "markdown",
   "id": "dfa4ec98",
   "metadata": {
    "heading_collapsed": true,
    "hidden": true
   },
   "source": [
    "## 0.1. BIBLIOTECAS"
   ]
  },
  {
   "cell_type": "code",
   "execution_count": 1,
   "id": "db50b0d1",
   "metadata": {
    "ExecuteTime": {
     "end_time": "2021-12-18T00:39:22.061636Z",
     "start_time": "2021-12-18T00:39:18.926635Z"
    },
    "hidden": true
   },
   "outputs": [],
   "source": [
    "import pandas            as pd\n",
    "import numpy             as np\n",
    "import seaborn           as sns\n",
    "import matplotlib.pyplot as plt\n",
    "import scikitplot        as skplt\n",
    "import xgboost           as xgb\n",
    "\n",
    "import warnings\n",
    "\n",
    "from sklearn import preprocessing   as pp\n",
    "from sklearn import model_selection as ms\n",
    "from sklearn import ensemble        as en\n",
    "from sklearn import neighbors       as nh\n",
    "from sklearn import linear_model    as lm\n",
    "from sklearn import ensemble        as en\n",
    "\n",
    "warnings.filterwarnings('ignore')"
   ]
  },
  {
   "cell_type": "markdown",
   "id": "b1d74e8e",
   "metadata": {
    "heading_collapsed": true,
    "hidden": true
   },
   "source": [
    "## 0.2. FUNCOES DE AUXILIARES"
   ]
  },
  {
   "cell_type": "code",
   "execution_count": null,
   "id": "7fa2110a",
   "metadata": {
    "hidden": true
   },
   "outputs": [],
   "source": []
  },
  {
   "cell_type": "markdown",
   "id": "0bbf5be7",
   "metadata": {
    "heading_collapsed": true,
    "hidden": true
   },
   "source": [
    "## 0.3. CARREGAMENTO DOS DADOS"
   ]
  },
  {
   "cell_type": "code",
   "execution_count": 2,
   "id": "63149e92",
   "metadata": {
    "ExecuteTime": {
     "end_time": "2021-12-18T00:39:22.455158Z",
     "start_time": "2021-12-18T00:39:22.062668Z"
    },
    "hidden": true
   },
   "outputs": [
    {
     "data": {
      "text/html": [
       "<div>\n",
       "<style scoped>\n",
       "    .dataframe tbody tr th:only-of-type {\n",
       "        vertical-align: middle;\n",
       "    }\n",
       "\n",
       "    .dataframe tbody tr th {\n",
       "        vertical-align: top;\n",
       "    }\n",
       "\n",
       "    .dataframe thead th {\n",
       "        text-align: right;\n",
       "    }\n",
       "</style>\n",
       "<table border=\"1\" class=\"dataframe\">\n",
       "  <thead>\n",
       "    <tr style=\"text-align: right;\">\n",
       "      <th></th>\n",
       "      <th>id</th>\n",
       "      <th>Gender</th>\n",
       "      <th>Age</th>\n",
       "      <th>Driving_License</th>\n",
       "      <th>Region_Code</th>\n",
       "      <th>Previously_Insured</th>\n",
       "      <th>Vehicle_Age</th>\n",
       "      <th>Vehicle_Damage</th>\n",
       "      <th>Annual_Premium</th>\n",
       "      <th>Policy_Sales_Channel</th>\n",
       "      <th>Vintage</th>\n",
       "      <th>Response</th>\n",
       "    </tr>\n",
       "  </thead>\n",
       "  <tbody>\n",
       "    <tr>\n",
       "      <th>0</th>\n",
       "      <td>1</td>\n",
       "      <td>Male</td>\n",
       "      <td>44</td>\n",
       "      <td>1</td>\n",
       "      <td>28.0</td>\n",
       "      <td>0</td>\n",
       "      <td>&gt; 2 Years</td>\n",
       "      <td>Yes</td>\n",
       "      <td>40454.0</td>\n",
       "      <td>26.0</td>\n",
       "      <td>217</td>\n",
       "      <td>1</td>\n",
       "    </tr>\n",
       "    <tr>\n",
       "      <th>1</th>\n",
       "      <td>2</td>\n",
       "      <td>Male</td>\n",
       "      <td>76</td>\n",
       "      <td>1</td>\n",
       "      <td>3.0</td>\n",
       "      <td>0</td>\n",
       "      <td>1-2 Year</td>\n",
       "      <td>No</td>\n",
       "      <td>33536.0</td>\n",
       "      <td>26.0</td>\n",
       "      <td>183</td>\n",
       "      <td>0</td>\n",
       "    </tr>\n",
       "    <tr>\n",
       "      <th>2</th>\n",
       "      <td>3</td>\n",
       "      <td>Male</td>\n",
       "      <td>47</td>\n",
       "      <td>1</td>\n",
       "      <td>28.0</td>\n",
       "      <td>0</td>\n",
       "      <td>&gt; 2 Years</td>\n",
       "      <td>Yes</td>\n",
       "      <td>38294.0</td>\n",
       "      <td>26.0</td>\n",
       "      <td>27</td>\n",
       "      <td>1</td>\n",
       "    </tr>\n",
       "    <tr>\n",
       "      <th>3</th>\n",
       "      <td>4</td>\n",
       "      <td>Male</td>\n",
       "      <td>21</td>\n",
       "      <td>1</td>\n",
       "      <td>11.0</td>\n",
       "      <td>1</td>\n",
       "      <td>&lt; 1 Year</td>\n",
       "      <td>No</td>\n",
       "      <td>28619.0</td>\n",
       "      <td>152.0</td>\n",
       "      <td>203</td>\n",
       "      <td>0</td>\n",
       "    </tr>\n",
       "    <tr>\n",
       "      <th>4</th>\n",
       "      <td>5</td>\n",
       "      <td>Female</td>\n",
       "      <td>29</td>\n",
       "      <td>1</td>\n",
       "      <td>41.0</td>\n",
       "      <td>1</td>\n",
       "      <td>&lt; 1 Year</td>\n",
       "      <td>No</td>\n",
       "      <td>27496.0</td>\n",
       "      <td>152.0</td>\n",
       "      <td>39</td>\n",
       "      <td>0</td>\n",
       "    </tr>\n",
       "  </tbody>\n",
       "</table>\n",
       "</div>"
      ],
      "text/plain": [
       "   id  Gender  Age  Driving_License  Region_Code  Previously_Insured  \\\n",
       "0   1    Male   44                1         28.0                   0   \n",
       "1   2    Male   76                1          3.0                   0   \n",
       "2   3    Male   47                1         28.0                   0   \n",
       "3   4    Male   21                1         11.0                   1   \n",
       "4   5  Female   29                1         41.0                   1   \n",
       "\n",
       "  Vehicle_Age Vehicle_Damage  Annual_Premium  Policy_Sales_Channel  Vintage  \\\n",
       "0   > 2 Years            Yes         40454.0                  26.0      217   \n",
       "1    1-2 Year             No         33536.0                  26.0      183   \n",
       "2   > 2 Years            Yes         38294.0                  26.0       27   \n",
       "3    < 1 Year             No         28619.0                 152.0      203   \n",
       "4    < 1 Year             No         27496.0                 152.0       39   \n",
       "\n",
       "   Response  \n",
       "0         1  \n",
       "1         0  \n",
       "2         1  \n",
       "3         0  \n",
       "4         0  "
      ]
     },
     "execution_count": 2,
     "metadata": {},
     "output_type": "execute_result"
    }
   ],
   "source": [
    "df = pd.read_csv( 'train.csv' )\n",
    "df.head()"
   ]
  },
  {
   "cell_type": "markdown",
   "id": "186b87f0",
   "metadata": {},
   "source": [
    "# 1.0. DESCRICAO DOS DADOS"
   ]
  },
  {
   "cell_type": "code",
   "execution_count": 3,
   "id": "8d8ddecd",
   "metadata": {
    "ExecuteTime": {
     "end_time": "2021-12-18T00:39:22.486297Z",
     "start_time": "2021-12-18T00:39:22.457446Z"
    }
   },
   "outputs": [],
   "source": [
    "df1 = df.copy()"
   ]
  },
  {
   "cell_type": "markdown",
   "id": "5a429386",
   "metadata": {
    "heading_collapsed": true
   },
   "source": [
    "## 1.1. DIMENSAO DOS DADOS"
   ]
  },
  {
   "cell_type": "code",
   "execution_count": 4,
   "id": "b8bcef0c",
   "metadata": {
    "ExecuteTime": {
     "end_time": "2021-12-18T00:39:22.501305Z",
     "start_time": "2021-12-18T00:39:22.487302Z"
    },
    "hidden": true
   },
   "outputs": [
    {
     "name": "stdout",
     "output_type": "stream",
     "text": [
      "Numero de linhas:  381109\n",
      "Numero de colunas: 12\n"
     ]
    }
   ],
   "source": [
    "print( 'Numero de linhas:  {}'.format( df1.shape[0] ) )\n",
    "print( 'Numero de colunas: {}'.format( df1.shape[1] ) )"
   ]
  },
  {
   "cell_type": "markdown",
   "id": "eb342a62",
   "metadata": {
    "heading_collapsed": true
   },
   "source": [
    "## 1.2. TIPOS DE DADOS"
   ]
  },
  {
   "cell_type": "code",
   "execution_count": 5,
   "id": "38aa2606",
   "metadata": {
    "ExecuteTime": {
     "end_time": "2021-12-18T00:39:22.517309Z",
     "start_time": "2021-12-18T00:39:22.503305Z"
    },
    "hidden": true
   },
   "outputs": [
    {
     "data": {
      "text/plain": [
       "id                        int64\n",
       "Gender                   object\n",
       "Age                       int64\n",
       "Driving_License           int64\n",
       "Region_Code             float64\n",
       "Previously_Insured        int64\n",
       "Vehicle_Age              object\n",
       "Vehicle_Damage           object\n",
       "Annual_Premium          float64\n",
       "Policy_Sales_Channel    float64\n",
       "Vintage                   int64\n",
       "Response                  int64\n",
       "dtype: object"
      ]
     },
     "execution_count": 5,
     "metadata": {},
     "output_type": "execute_result"
    }
   ],
   "source": [
    "df1.dtypes"
   ]
  },
  {
   "cell_type": "markdown",
   "id": "198613fe",
   "metadata": {
    "heading_collapsed": true
   },
   "source": [
    "## 1.3 CHECK NA"
   ]
  },
  {
   "cell_type": "code",
   "execution_count": 6,
   "id": "8b0d90fb",
   "metadata": {
    "ExecuteTime": {
     "end_time": "2021-12-18T00:39:22.580608Z",
     "start_time": "2021-12-18T00:39:22.520303Z"
    },
    "hidden": true
   },
   "outputs": [
    {
     "data": {
      "text/plain": [
       "id                      0\n",
       "Gender                  0\n",
       "Age                     0\n",
       "Driving_License         0\n",
       "Region_Code             0\n",
       "Previously_Insured      0\n",
       "Vehicle_Age             0\n",
       "Vehicle_Damage          0\n",
       "Annual_Premium          0\n",
       "Policy_Sales_Channel    0\n",
       "Vintage                 0\n",
       "Response                0\n",
       "dtype: int64"
      ]
     },
     "execution_count": 6,
     "metadata": {},
     "output_type": "execute_result"
    }
   ],
   "source": [
    "df1.isna().sum()"
   ]
  },
  {
   "cell_type": "markdown",
   "id": "826a3357",
   "metadata": {
    "heading_collapsed": true
   },
   "source": [
    "## 1.4. ESTATISTICA DESCRITIVA"
   ]
  },
  {
   "cell_type": "code",
   "execution_count": 7,
   "id": "83645ebc",
   "metadata": {
    "ExecuteTime": {
     "end_time": "2021-12-18T00:39:22.611421Z",
     "start_time": "2021-12-18T00:39:22.583063Z"
    },
    "hidden": true
   },
   "outputs": [],
   "source": [
    "num_atributos = df1.select_dtypes( include = ['int64', 'float64'] )\n",
    "cat_atributos = df1.select_dtypes( exclude = ['int64', 'float64'] )"
   ]
  },
  {
   "cell_type": "markdown",
   "id": "12e7b88a",
   "metadata": {
    "ExecuteTime": {
     "end_time": "2021-11-30T23:38:32.820060Z",
     "start_time": "2021-11-30T23:38:32.795444Z"
    },
    "heading_collapsed": true,
    "hidden": true
   },
   "source": [
    "### 1.4.1. ATRIBUTOS NUMERCOS"
   ]
  },
  {
   "cell_type": "code",
   "execution_count": 8,
   "id": "1323e3e3",
   "metadata": {
    "ExecuteTime": {
     "end_time": "2021-12-18T00:39:23.551600Z",
     "start_time": "2021-12-18T00:39:22.612566Z"
    },
    "hidden": true,
    "scrolled": true
   },
   "outputs": [
    {
     "data": {
      "text/html": [
       "<div>\n",
       "<style scoped>\n",
       "    .dataframe tbody tr th:only-of-type {\n",
       "        vertical-align: middle;\n",
       "    }\n",
       "\n",
       "    .dataframe tbody tr th {\n",
       "        vertical-align: top;\n",
       "    }\n",
       "\n",
       "    .dataframe thead th {\n",
       "        text-align: right;\n",
       "    }\n",
       "</style>\n",
       "<table border=\"1\" class=\"dataframe\">\n",
       "  <thead>\n",
       "    <tr style=\"text-align: right;\">\n",
       "      <th></th>\n",
       "      <th>atributos</th>\n",
       "      <th>min</th>\n",
       "      <th>max</th>\n",
       "      <th>range</th>\n",
       "      <th>mean</th>\n",
       "      <th>median</th>\n",
       "      <th>std</th>\n",
       "      <th>skew</th>\n",
       "      <th>kurtosis</th>\n",
       "    </tr>\n",
       "  </thead>\n",
       "  <tbody>\n",
       "    <tr>\n",
       "      <th>0</th>\n",
       "      <td>id</td>\n",
       "      <td>1.0</td>\n",
       "      <td>381109.0</td>\n",
       "      <td>381108.0</td>\n",
       "      <td>190555.000000</td>\n",
       "      <td>190555.0</td>\n",
       "      <td>110016.691870</td>\n",
       "      <td>9.443274e-16</td>\n",
       "      <td>-1.200000</td>\n",
       "    </tr>\n",
       "    <tr>\n",
       "      <th>1</th>\n",
       "      <td>Age</td>\n",
       "      <td>20.0</td>\n",
       "      <td>85.0</td>\n",
       "      <td>65.0</td>\n",
       "      <td>38.822584</td>\n",
       "      <td>36.0</td>\n",
       "      <td>15.511591</td>\n",
       "      <td>6.725390e-01</td>\n",
       "      <td>-0.565655</td>\n",
       "    </tr>\n",
       "    <tr>\n",
       "      <th>2</th>\n",
       "      <td>Driving_License</td>\n",
       "      <td>0.0</td>\n",
       "      <td>1.0</td>\n",
       "      <td>1.0</td>\n",
       "      <td>0.997869</td>\n",
       "      <td>1.0</td>\n",
       "      <td>0.046109</td>\n",
       "      <td>-2.159518e+01</td>\n",
       "      <td>464.354302</td>\n",
       "    </tr>\n",
       "    <tr>\n",
       "      <th>3</th>\n",
       "      <td>Region_Code</td>\n",
       "      <td>0.0</td>\n",
       "      <td>52.0</td>\n",
       "      <td>52.0</td>\n",
       "      <td>26.388807</td>\n",
       "      <td>28.0</td>\n",
       "      <td>13.229871</td>\n",
       "      <td>-1.152664e-01</td>\n",
       "      <td>-0.867857</td>\n",
       "    </tr>\n",
       "    <tr>\n",
       "      <th>4</th>\n",
       "      <td>Previously_Insured</td>\n",
       "      <td>0.0</td>\n",
       "      <td>1.0</td>\n",
       "      <td>1.0</td>\n",
       "      <td>0.458210</td>\n",
       "      <td>0.0</td>\n",
       "      <td>0.498251</td>\n",
       "      <td>1.677471e-01</td>\n",
       "      <td>-1.971871</td>\n",
       "    </tr>\n",
       "    <tr>\n",
       "      <th>5</th>\n",
       "      <td>Annual_Premium</td>\n",
       "      <td>2630.0</td>\n",
       "      <td>540165.0</td>\n",
       "      <td>537535.0</td>\n",
       "      <td>30564.389581</td>\n",
       "      <td>31669.0</td>\n",
       "      <td>17213.132474</td>\n",
       "      <td>1.766087e+00</td>\n",
       "      <td>34.004569</td>\n",
       "    </tr>\n",
       "    <tr>\n",
       "      <th>6</th>\n",
       "      <td>Policy_Sales_Channel</td>\n",
       "      <td>1.0</td>\n",
       "      <td>163.0</td>\n",
       "      <td>162.0</td>\n",
       "      <td>112.034295</td>\n",
       "      <td>133.0</td>\n",
       "      <td>54.203924</td>\n",
       "      <td>-9.000081e-01</td>\n",
       "      <td>-0.970810</td>\n",
       "    </tr>\n",
       "    <tr>\n",
       "      <th>7</th>\n",
       "      <td>Vintage</td>\n",
       "      <td>10.0</td>\n",
       "      <td>299.0</td>\n",
       "      <td>289.0</td>\n",
       "      <td>154.347397</td>\n",
       "      <td>154.0</td>\n",
       "      <td>83.671194</td>\n",
       "      <td>3.029517e-03</td>\n",
       "      <td>-1.200688</td>\n",
       "    </tr>\n",
       "    <tr>\n",
       "      <th>8</th>\n",
       "      <td>Response</td>\n",
       "      <td>0.0</td>\n",
       "      <td>1.0</td>\n",
       "      <td>1.0</td>\n",
       "      <td>0.122563</td>\n",
       "      <td>0.0</td>\n",
       "      <td>0.327935</td>\n",
       "      <td>2.301906e+00</td>\n",
       "      <td>3.298788</td>\n",
       "    </tr>\n",
       "  </tbody>\n",
       "</table>\n",
       "</div>"
      ],
      "text/plain": [
       "              atributos     min       max     range           mean    median  \\\n",
       "0                    id     1.0  381109.0  381108.0  190555.000000  190555.0   \n",
       "1                   Age    20.0      85.0      65.0      38.822584      36.0   \n",
       "2       Driving_License     0.0       1.0       1.0       0.997869       1.0   \n",
       "3           Region_Code     0.0      52.0      52.0      26.388807      28.0   \n",
       "4    Previously_Insured     0.0       1.0       1.0       0.458210       0.0   \n",
       "5        Annual_Premium  2630.0  540165.0  537535.0   30564.389581   31669.0   \n",
       "6  Policy_Sales_Channel     1.0     163.0     162.0     112.034295     133.0   \n",
       "7               Vintage    10.0     299.0     289.0     154.347397     154.0   \n",
       "8              Response     0.0       1.0       1.0       0.122563       0.0   \n",
       "\n",
       "             std          skew    kurtosis  \n",
       "0  110016.691870  9.443274e-16   -1.200000  \n",
       "1      15.511591  6.725390e-01   -0.565655  \n",
       "2       0.046109 -2.159518e+01  464.354302  \n",
       "3      13.229871 -1.152664e-01   -0.867857  \n",
       "4       0.498251  1.677471e-01   -1.971871  \n",
       "5   17213.132474  1.766087e+00   34.004569  \n",
       "6      54.203924 -9.000081e-01   -0.970810  \n",
       "7      83.671194  3.029517e-03   -1.200688  \n",
       "8       0.327935  2.301906e+00    3.298788  "
      ]
     },
     "execution_count": 8,
     "metadata": {},
     "output_type": "execute_result"
    }
   ],
   "source": [
    "# tendencia central - mean, median\n",
    "tc1 = pd.DataFrame( num_atributos.apply( np.mean ) ).T\n",
    "tc2 = pd.DataFrame( num_atributos.apply( np.median ) ).T\n",
    "\n",
    "# dispersao - max, min, range, std, skew, kurtosis\n",
    "d1 = pd.DataFrame( num_atributos.apply( max ) ).T\n",
    "d2 = pd.DataFrame( num_atributos.apply( min ) ).T\n",
    "d3 = pd.DataFrame( num_atributos.apply( lambda x: x.max() - x.min() ) ).T\n",
    "d4 = pd.DataFrame( num_atributos.apply( np.std ) ).T\n",
    "d5 = pd.DataFrame( num_atributos.apply( lambda x: x.skew() ) ).T\n",
    "d6 = pd.DataFrame( num_atributos.apply( lambda x: x.kurtosis() ) ).T\n",
    "\n",
    "#concat\n",
    "\n",
    "m = pd.concat( [ d2, d1, d3, tc1, tc2, d4, d5, d6 ] ).T.reset_index()\n",
    "m.columns = ['atributos', 'min', 'max', 'range', 'mean', 'median', 'std', 'skew', 'kurtosis']\n",
    "m"
   ]
  },
  {
   "cell_type": "markdown",
   "id": "2db26829",
   "metadata": {
    "heading_collapsed": true,
    "hidden": true
   },
   "source": [
    "### 1.4.2. ATRIBUTOS CATEGORICOS"
   ]
  },
  {
   "cell_type": "code",
   "execution_count": 9,
   "id": "e5cd5c7b",
   "metadata": {
    "ExecuteTime": {
     "end_time": "2021-12-18T00:39:23.631304Z",
     "start_time": "2021-12-18T00:39:23.555611Z"
    },
    "hidden": true
   },
   "outputs": [
    {
     "data": {
      "text/plain": [
       "Gender            2\n",
       "Vehicle_Age       3\n",
       "Vehicle_Damage    2\n",
       "dtype: int64"
      ]
     },
     "execution_count": 9,
     "metadata": {},
     "output_type": "execute_result"
    }
   ],
   "source": [
    "cat_atributos.apply( lambda x: x.unique().shape[0] )"
   ]
  },
  {
   "cell_type": "markdown",
   "id": "90368e2c",
   "metadata": {
    "heading_collapsed": true
   },
   "source": [
    "# 2.0. FEATURE ENGENEERING"
   ]
  },
  {
   "cell_type": "code",
   "execution_count": 10,
   "id": "aed9423f",
   "metadata": {
    "ExecuteTime": {
     "end_time": "2021-12-18T00:39:23.647351Z",
     "start_time": "2021-12-18T00:39:23.632308Z"
    },
    "hidden": true
   },
   "outputs": [],
   "source": [
    "df2 = df1.copy()"
   ]
  },
  {
   "cell_type": "markdown",
   "id": "42176a5b",
   "metadata": {
    "ExecuteTime": {
     "end_time": "2021-12-01T00:27:21.374311Z",
     "start_time": "2021-12-01T00:27:21.298700Z"
    },
    "heading_collapsed": true,
    "hidden": true
   },
   "source": [
    "## 2.1. HIPOTESES DE GENERO"
   ]
  },
  {
   "cell_type": "markdown",
   "id": "b9eea46c",
   "metadata": {
    "hidden": true
   },
   "source": [
    "- 1 Deveria existir mais clientes do genero masculino com seguro de veículo do que do genero feminino\n",
    "- 2 Clientes do genero feminino devem possuir carros mais novos\n",
    "- 3 Clientes do genero masculino devem possuir 70% dos veículos que já se envolveram em acidentes\n",
    "- 4 Clientes do sexo feminino deveriam ter mais interesse em adquirir o seguro do que cliente do sexo masculino\n",
    "- 5 Clientes do sexo masculino devem pagar 10% a mais de premio anual do que clientes do sexo feminino"
   ]
  },
  {
   "cell_type": "markdown",
   "id": "d1eee5c9",
   "metadata": {
    "heading_collapsed": true,
    "hidden": true
   },
   "source": [
    "## 2.2. HIPOTESES DE IDADE"
   ]
  },
  {
   "cell_type": "markdown",
   "id": "ce96afc5",
   "metadata": {
    "ExecuteTime": {
     "end_time": "2021-12-01T00:39:15.965479Z",
     "start_time": "2021-12-01T00:39:15.950116Z"
    },
    "hidden": true
   },
   "source": [
    "- 6 O numero de cliente que possue seguro é 20% menor entre os mais jovens (35 ano ou menos) em relação aos clientes mais velhos\n",
    "- 7 Clientes mais velhos (35 anos ou mais) devem possuir carros antigos do que cliente mais jovens\n",
    "- 8 Clientes com 35 anos ou menos deveriam se envolver em 70% dos acidentes.\n",
    "- 9 Cliente mais velhos devem ter 10% mais interesse em adquirir o seguro do que clientes mais jovens"
   ]
  },
  {
   "cell_type": "markdown",
   "id": "86283a1c",
   "metadata": {
    "heading_collapsed": true,
    "hidden": true
   },
   "source": [
    "## 2.3. HIPOTESES OUTRAS"
   ]
  },
  {
   "cell_type": "markdown",
   "id": "279ce68a",
   "metadata": {
    "hidden": true
   },
   "source": [
    "- 10 Dos clientes que já possuem seguro, 80% não têm interesse em adquirir outro seguro\n",
    "- 11 Clientes a menos tempo como cliente, possuem 20% mais interesse em adquirir o seguro\n",
    "- 12 Clientes com Veiculos mais novos possuem mais interesse em adquirir o seguro"
   ]
  },
  {
   "cell_type": "markdown",
   "id": "785dc3fd",
   "metadata": {
    "heading_collapsed": true,
    "hidden": true
   },
   "source": [
    "## 2.4. FEATURE ENGENEERING"
   ]
  },
  {
   "cell_type": "code",
   "execution_count": 11,
   "id": "4ce0212b",
   "metadata": {
    "ExecuteTime": {
     "end_time": "2021-12-18T00:39:24.039905Z",
     "start_time": "2021-12-18T00:39:23.649973Z"
    },
    "hidden": true
   },
   "outputs": [],
   "source": [
    "#feature insured\n",
    "df2['Insured'] = df2['Previously_Insured'].apply( lambda x: 'yes' if x == 1 else\n",
    "                                                            'no')\n",
    "\n",
    "#feature age_vehicle\n",
    "df2['Age_Vehicle'] = df2['Vehicle_Age'].apply( lambda x: 'old' if x == '> 2 Years' else\n",
    "                                                         'used car' if x == '1-2 Year' else\n",
    "                                                         'new')\n",
    "\n",
    "#feature interest\n",
    "df2['Interest'] = df2['Response'].apply( lambda x: 'yes' if x == 1 else\n",
    "                                                     'no')\n",
    "\n",
    "#feature age_group\n",
    "df2['Age_Group'] = df2['Age'].apply( lambda x: 'Above_35' if x > 35 else\n",
    "                                               'Below_35')\n",
    "\n",
    "#feature insured\n",
    "df2['Insured'] = df2['Previously_Insured'].apply( lambda x: 'Yes' if x == 1 else\n",
    "                                                            'No')\n",
    "\n",
    "# feature how_much_time\n",
    "df2['How_Much_Time'] = df2['Vintage'].apply( lambda x: '<= 145 days' if x <= 145 else\n",
    "                                                       '> 145 days' )\n",
    "\n",
    "# feature vehicle_damage\n",
    "df2['Vehicle_Damage'] = df2['Vehicle_Damage'].apply( lambda x: 1 if x == 'Yes' else 0 )"
   ]
  },
  {
   "cell_type": "markdown",
   "id": "b0ba28b3",
   "metadata": {},
   "source": [
    "# 3.0. ANALISE EXPLORATORIA"
   ]
  },
  {
   "cell_type": "code",
   "execution_count": 12,
   "id": "1d1c2bb9",
   "metadata": {
    "ExecuteTime": {
     "end_time": "2021-12-18T00:39:24.103397Z",
     "start_time": "2021-12-18T00:39:24.040847Z"
    }
   },
   "outputs": [],
   "source": [
    "df3 = df2.copy()"
   ]
  },
  {
   "cell_type": "markdown",
   "id": "a662c544",
   "metadata": {
    "ExecuteTime": {
     "end_time": "2021-12-01T11:16:50.549612Z",
     "start_time": "2021-12-01T11:16:50.499217Z"
    },
    "heading_collapsed": true
   },
   "source": [
    "## 3.1. ANALISE UNIVARIADA"
   ]
  },
  {
   "cell_type": "markdown",
   "id": "a6f7ffea",
   "metadata": {
    "heading_collapsed": true,
    "hidden": true
   },
   "source": [
    "### 3.1.1. VARIAVEL NUMERICA"
   ]
  },
  {
   "cell_type": "code",
   "execution_count": 13,
   "id": "fd28de78",
   "metadata": {
    "ExecuteTime": {
     "end_time": "2021-12-18T00:39:25.610219Z",
     "start_time": "2021-12-18T00:39:24.104968Z"
    },
    "hidden": true
   },
   "outputs": [
    {
     "data": {
      "image/png": "[encoded data removed]",
      "text/plain": [
       "<Figure size 1152x720 with 9 Axes>"
      ]
     },
     "metadata": {
      "needs_background": "light"
     },
     "output_type": "display_data"
    }
   ],
   "source": [
    "num_atributos.hist( grid = False, figsize = (16, 10), bins = 25 );"
   ]
  },
  {
   "cell_type": "markdown",
   "id": "4ebb1098",
   "metadata": {
    "ExecuteTime": {
     "end_time": "2021-12-01T11:22:26.556411Z",
     "start_time": "2021-12-01T11:22:26.526449Z"
    },
    "heading_collapsed": true,
    "hidden": true
   },
   "source": [
    "### 3.1.2. VARIAVEL CATEGORICA"
   ]
  },
  {
   "cell_type": "code",
   "execution_count": 14,
   "id": "2f9f7f11",
   "metadata": {
    "ExecuteTime": {
     "end_time": "2021-12-18T00:39:32.811331Z",
     "start_time": "2021-12-18T00:39:25.612222Z"
    },
    "hidden": true
   },
   "outputs": [
    {
     "data": {
      "image/png": "[encoded data removed]",
      "text/plain": [
       "<Figure size 1152x1152 with 6 Axes>"
      ]
     },
     "metadata": {
      "needs_background": "light"
     },
     "output_type": "display_data"
    }
   ],
   "source": [
    "plt.figure( figsize = ( 16, 16 ) )\n",
    "plt.subplot( 3, 2, 1 )\n",
    "sns.countplot( df3['Gender'] );\n",
    "\n",
    "plt.subplot( 3, 2, 2 )\n",
    "sns.kdeplot( df3[df3['Gender'] == 'Male']['Annual_Premium'], shade = True )\n",
    "sns.kdeplot( df3[df3['Gender'] == 'Female']['Annual_Premium'], shade = True )\n",
    "plt.legend( labels = ['Male', 'Female'] );\n",
    "\n",
    "plt.subplot( 3, 2, 3 )\n",
    "sns.countplot( df3['Vehicle_Age'] );\n",
    "\n",
    "plt.subplot( 3, 2, 4 )\n",
    "sns.kdeplot( df3[df3['Vehicle_Age'] == '> 2 Years']['Annual_Premium'], shade = True )\n",
    "sns.kdeplot( df3[df3['Vehicle_Age'] == '1-2 Year']['Annual_Premium'], shade = True )\n",
    "sns.kdeplot( df3[df3['Vehicle_Age'] == '< 1 Year']['Annual_Premium'], shade = True )\n",
    "plt.legend( labels = ['> 2 Years', '1-2 Year', '< 1 Year'] );\n",
    "\n",
    "plt.subplot( 3, 2, 5 )\n",
    "sns.countplot( df3['Vehicle_Damage'] );\n",
    "\n",
    "plt.subplot( 3, 2, 6 )\n",
    "sns.kdeplot( df3[df3['Vehicle_Damage'] == 'Yes']['Annual_Premium'], shade = True )\n",
    "sns.kdeplot( df3[df3['Vehicle_Damage'] == 'No']['Annual_Premium'], shade = True )\n",
    "plt.legend( labels = ['Yes', 'No'] );"
   ]
  },
  {
   "cell_type": "markdown",
   "id": "2854da7d",
   "metadata": {},
   "source": [
    "## 3.2. ANALISE BIVARIADA"
   ]
  },
  {
   "cell_type": "markdown",
   "id": "a20b7a2b",
   "metadata": {
    "heading_collapsed": true,
    "hide_input": false
   },
   "source": [
    "### 3.2.1. 1) Deveria existir mais clientes do genero masculino com seguro de veículo do que do genero feminino\n",
    "\n",
    "**Falso.** Apesar de representarem **45,9%** dos clientes, clientes do sexo feminino representam **50,3%** dos clientes que já possuem seguro."
   ]
  },
  {
   "cell_type": "code",
   "execution_count": 15,
   "id": "fea17cc1",
   "metadata": {
    "ExecuteTime": {
     "end_time": "2021-12-18T00:39:32.998598Z",
     "start_time": "2021-12-18T00:39:32.814386Z"
    },
    "hidden": true,
    "hide_input": true
   },
   "outputs": [
    {
     "data": {
      "image/png": "[encoded data removed]",
      "text/plain": [
       "<Figure size 720x432 with 1 Axes>"
      ]
     },
     "metadata": {
      "needs_background": "light"
     },
     "output_type": "display_data"
    }
   ],
   "source": [
    "aux1 = df3[['Gender', 'Previously_Insured', 'Insured']].groupby( ['Insured', 'Gender'] ).count().reset_index()\n",
    "\n",
    "plt.figure( figsize = ( 10,6 ) )\n",
    "sns.barplot( x = 'Insured', y = 'Previously_Insured', hue = 'Gender', data = aux1 );\n",
    "\n"
   ]
  },
  {
   "cell_type": "markdown",
   "id": "d8514c61",
   "metadata": {
    "heading_collapsed": true,
    "hide_input": false
   },
   "source": [
    "### 3.2.2. 2) Clientes do genero feminino devem possuir carros mais novos\n",
    "**Verdadeiro.** Mulheres têm mais preferência por carros novos e homens por carros usados"
   ]
  },
  {
   "cell_type": "code",
   "execution_count": 16,
   "id": "82629d09",
   "metadata": {
    "ExecuteTime": {
     "end_time": "2021-12-18T00:39:33.266847Z",
     "start_time": "2021-12-18T00:39:33.001566Z"
    },
    "hidden": true,
    "hide_input": true
   },
   "outputs": [
    {
     "data": {
      "image/png": "[encoded data removed]",
      "text/plain": [
       "<Figure size 720x432 with 1 Axes>"
      ]
     },
     "metadata": {
      "needs_background": "light"
     },
     "output_type": "display_data"
    }
   ],
   "source": [
    "aux2 = df3[['Gender', 'Vehicle_Age', 'Age_Vehicle']].groupby( ['Gender', 'Age_Vehicle'] ).count().reset_index().sort_values( 'Vehicle_Age', ascending = False)\n",
    "\n",
    "plt.figure( figsize = ( 10,6 ) )\n",
    "sns.barplot( x = 'Gender', y = 'Vehicle_Age', hue = 'Age_Vehicle', data = aux2 );"
   ]
  },
  {
   "cell_type": "markdown",
   "id": "c78c0eb7",
   "metadata": {
    "heading_collapsed": true,
    "hide_input": true
   },
   "source": [
    "### 3.2.3. 3) Clientes do genero masculino devem possuir 70% dos veículos que já se envolveram em acidentes\n",
    "**Verdadeiro.** Homens possuem **58.6%** dos veículos que já se envolveram em acidentes"
   ]
  },
  {
   "cell_type": "code",
   "execution_count": 17,
   "id": "0af8650c",
   "metadata": {
    "ExecuteTime": {
     "end_time": "2021-12-18T00:39:33.407229Z",
     "start_time": "2021-12-18T00:39:33.268834Z"
    },
    "hidden": true,
    "hide_input": true
   },
   "outputs": [
    {
     "data": {
      "image/png": "[encoded data removed]",
      "text/plain": [
       "<Figure size 720x432 with 1 Axes>"
      ]
     },
     "metadata": {
      "needs_background": "light"
     },
     "output_type": "display_data"
    }
   ],
   "source": [
    "aux = df3[df3['Vehicle_Damage'] == 1 ]\n",
    "aux3 = aux[['Gender', 'Vehicle_Damage']].groupby( 'Gender' ).count().reset_index()\n",
    "\n",
    "plt.figure( figsize = ( 10,6 ) )\n",
    "sns.barplot( x = 'Gender', y = 'Vehicle_Damage', data = aux3 );"
   ]
  },
  {
   "cell_type": "markdown",
   "id": "b761f0ea",
   "metadata": {
    "heading_collapsed": true
   },
   "source": [
    "### 3.2.4. 4) Clientes do sexo feminino deveriam ter mais interesse em adquirir o seguro do que cliente do sexo masculino\n",
    "\n",
    "**Falso.** Apenas **10,4%** dos cliente do genero feminino tem interesse em adquirir o seguro, já **13,84%** dos cliente do genero masculino possuem interesse"
   ]
  },
  {
   "cell_type": "code",
   "execution_count": 18,
   "id": "022ee102",
   "metadata": {
    "ExecuteTime": {
     "end_time": "2021-12-18T00:39:33.596379Z",
     "start_time": "2021-12-18T00:39:33.408231Z"
    },
    "hidden": true,
    "hide_input": true
   },
   "outputs": [
    {
     "data": {
      "image/png": "[encoded data removed]",
      "text/plain": [
       "<Figure size 720x432 with 1 Axes>"
      ]
     },
     "metadata": {
      "needs_background": "light"
     },
     "output_type": "display_data"
    }
   ],
   "source": [
    "aux4 = df3[['Gender', 'Response', 'Interest']].groupby( ['Gender', 'Interest'] ).count().reset_index()\n",
    "\n",
    "plt.figure( figsize = ( 10,6 ) )\n",
    "sns.barplot( x = 'Gender', y = 'Response', hue = 'Interest', data = aux4 );"
   ]
  },
  {
   "cell_type": "markdown",
   "id": "ed661064",
   "metadata": {
    "heading_collapsed": true
   },
   "source": [
    "### 3.2.5. 5) Clientes do sexo masculino devem pagar 10% a mais de premio anual do que clientes do sexo feminino\n",
    "**Falso.** Clientes do sexo masculino pagam apenas **0,41%** a mais de premio anual do que clientes do sexo feminino"
   ]
  },
  {
   "cell_type": "code",
   "execution_count": 19,
   "id": "953bb4f4",
   "metadata": {
    "ExecuteTime": {
     "end_time": "2021-12-18T00:39:33.766377Z",
     "start_time": "2021-12-18T00:39:33.598383Z"
    },
    "hidden": true,
    "hide_input": true
   },
   "outputs": [
    {
     "data": {
      "image/png": "[encoded data removed]",
      "text/plain": [
       "<Figure size 864x432 with 1 Axes>"
      ]
     },
     "metadata": {
      "needs_background": "light"
     },
     "output_type": "display_data"
    }
   ],
   "source": [
    "aux5 = df3[['Gender', 'Annual_Premium']].groupby( 'Gender' ).mean().reset_index()\n",
    "\n",
    "plt.figure( figsize = ( 12,6 ) )\n",
    "sns.barplot( x = 'Gender', y = 'Annual_Premium', data = aux5 );"
   ]
  },
  {
   "cell_type": "markdown",
   "id": "4acbbd79",
   "metadata": {
    "heading_collapsed": true,
    "hide_input": true
   },
   "source": [
    "### 3.2.6. 6) O percentual de clientes que possuem seguro é menor entre os mais jovens (35 ano ou menos) em relação aos clientes mais velhos\n",
    "**Falso.** Apenas **30,25%** dos clientes mais velhos possuem seguro, entre os mais jovens **62%** possuem\n"
   ]
  },
  {
   "cell_type": "code",
   "execution_count": 92,
   "id": "2953cb2a",
   "metadata": {
    "ExecuteTime": {
     "end_time": "2021-12-18T01:32:18.313165Z",
     "start_time": "2021-12-18T01:32:18.119340Z"
    },
    "hidden": true,
    "hide_input": false
   },
   "outputs": [
    {
     "data": {
      "image/png": "[encoded data removed]",
      "text/plain": [
       "<Figure size 720x432 with 1 Axes>"
      ]
     },
     "metadata": {
      "needs_background": "light"
     },
     "output_type": "display_data"
    }
   ],
   "source": [
    "aux6 = df3[['Previously_Insured', 'Insured', 'Age_Group']].groupby( ['Age_Group', 'Insured'] ).count().reset_index()\n",
    "\n",
    "plt.figure( figsize = (10, 6) )\n",
    "sns.barplot( x = 'Age_Group', y = 'Previously_Insured', hue = 'Insured', data = aux6 );\n"
   ]
  },
  {
   "cell_type": "markdown",
   "id": "b2920a9b",
   "metadata": {
    "heading_collapsed": true,
    "hide_input": false
   },
   "source": [
    "### 3.2.7. 7) Clientes mais velhos (35 anos ou mais) devem possuir carros mais antigos do que cliente mais jovens\n",
    "**Verdadeiro.** Clientes mais velhos e clientes mais jovens possuem preferências diferentes quanto a idade dos veículos. **91,5%** dos cliente com idade superior a 35 anos possuem carros usados. **87.78%** dos cliente cuja idade é inferior aos 35 anos possuem carros novos."
   ]
  },
  {
   "cell_type": "code",
   "execution_count": 21,
   "id": "3c7eeb6b",
   "metadata": {
    "ExecuteTime": {
     "end_time": "2021-12-18T00:39:34.949436Z",
     "start_time": "2021-12-18T00:39:34.748548Z"
    },
    "hidden": true,
    "hide_input": true
   },
   "outputs": [
    {
     "data": {
      "image/png": "[encoded data removed]",
      "text/plain": [
       "<Figure size 720x432 with 1 Axes>"
      ]
     },
     "metadata": {
      "needs_background": "light"
     },
     "output_type": "display_data"
    }
   ],
   "source": [
    "aux7 = df3[['Age_Group', 'Age_Vehicle', 'id']].groupby( ['Age_Group', 'Age_Vehicle'] ).count().reset_index()\n",
    "\n",
    "plt.figure( figsize = ( 10, 6) )\n",
    "sns.barplot( x = 'Age_Group', y = 'id', hue = 'Age_Vehicle', data = aux7 );"
   ]
  },
  {
   "cell_type": "markdown",
   "id": "eac04770",
   "metadata": {
    "heading_collapsed": true,
    "hide_input": true
   },
   "source": [
    "### 3.2.8. 8) Clientes com 35 anos ou menos deveriam se envolver em 70% dos acidentes.\n",
    "**Falso. 67.13%** dos acidentes ocorrerem com clientes cuja idade é sunperior a 35 anos."
   ]
  },
  {
   "cell_type": "code",
   "execution_count": 22,
   "id": "98eb3dee",
   "metadata": {
    "ExecuteTime": {
     "end_time": "2021-12-18T00:39:35.803532Z",
     "start_time": "2021-12-18T00:39:34.951498Z"
    },
    "hidden": true,
    "hide_input": true
   },
   "outputs": [
    {
     "data": {
      "image/png": "[encoded data removed]",
      "text/plain": [
       "<Figure size 1152x720 with 3 Axes>"
      ]
     },
     "metadata": {
      "needs_background": "light"
     },
     "output_type": "display_data"
    }
   ],
   "source": [
    "aux8 = df3[df3['Vehicle_Damage'] == 1 ]\n",
    "aux81 = aux8[['Age_Group', 'Vehicle_Damage']].groupby( 'Age_Group' ).count().reset_index()\n",
    "aux82 = df3.loc[df3['Vehicle_Damage'] == 1, 'Age']\n",
    "aux83 = df3.loc[df3['Vehicle_Damage'] == 0, 'Age']\n",
    "\n",
    "plt.figure( figsize = ( 16, 10 ) )\n",
    "plt.subplot( 2, 2, 1 )\n",
    "sns.barplot( x = 'Age_Group', y = 'Vehicle_Damage', data = aux81 );\n",
    "\n",
    "plt.subplot( 2, 2, 2 )\n",
    "sns.histplot( aux82 )\n",
    "plt.title( 'Vehicle_Damage Yes' );\n",
    "\n",
    "plt.subplot( 2, 2, 3 )\n",
    "sns.histplot( aux83 )\n",
    "plt.title( 'Vehicle_Damage No' );\n"
   ]
  },
  {
   "cell_type": "code",
   "execution_count": 23,
   "id": "c2020c0c",
   "metadata": {
    "ExecuteTime": {
     "end_time": "2021-12-18T00:39:35.823837Z",
     "start_time": "2021-12-18T00:39:35.807533Z"
    },
    "hidden": true,
    "hide_input": true
   },
   "outputs": [
    {
     "data": {
      "text/plain": [
       "0         44\n",
       "2         47\n",
       "5         24\n",
       "6         23\n",
       "7         56\n",
       "          ..\n",
       "381100    29\n",
       "381101    70\n",
       "381102    25\n",
       "381103    47\n",
       "381107    68\n",
       "Name: Age, Length: 192413, dtype: int64"
      ]
     },
     "execution_count": 23,
     "metadata": {},
     "output_type": "execute_result"
    }
   ],
   "source": [
    "aux82"
   ]
  },
  {
   "cell_type": "markdown",
   "id": "e7143d01",
   "metadata": {},
   "source": [
    "### 3.2.9. 9) Clientes mais velhos devem ter 10% mais interesse em adquirir o seguro do que clientes mais jovens\n",
    "**Verdadeiro.** Clientes acima 35 anos representam **73,18%** dos clientes que possuem interesse em adquirir o seguro."
   ]
  },
  {
   "cell_type": "code",
   "execution_count": 100,
   "id": "22a54abc",
   "metadata": {
    "ExecuteTime": {
     "end_time": "2021-12-18T01:36:33.307419Z",
     "start_time": "2021-12-18T01:36:32.630513Z"
    },
    "hide_input": false,
    "scrolled": false
   },
   "outputs": [
    {
     "data": {
      "image/png": "[encoded data removed]",
      "text/plain": [
       "<Figure size 1152x864 with 3 Axes>"
      ]
     },
     "metadata": {
      "needs_background": "light"
     },
     "output_type": "display_data"
    }
   ],
   "source": [
    "aux9 = df3[df3['Response'] == 1]\n",
    "aux91 = aux9[['Age_Group', 'Response']].groupby( 'Age_Group' ).count().reset_index()\n",
    "aux92 = df3.loc[df3['Response'] == 0, 'Age']\n",
    "aux93 = df3.loc[df3['Response'] == 1, 'Age']\n",
    "\n",
    "plt.figure( figsize = ( 16, 12 ) )\n",
    "plt.subplot( 2, 2, 1 )\n",
    "sns.barplot( x = 'Age_Group', y = 'Response', data = aux91 );\n",
    "\n",
    "plt.subplot( 2, 2, 2 )\n",
    "sns.boxplot( x = 'Response', y = 'Age', data = df3 );\n",
    "\n",
    "plt.subplot( 2, 2, 3 )\n",
    "sns.histplot( aux92 )\n",
    "plt.title( \"Response 1\" );\n"
   ]
  },
  {
   "cell_type": "markdown",
   "id": "a42d81bb",
   "metadata": {
    "heading_collapsed": true,
    "hide_input": true
   },
   "source": [
    "### 3.2.10. 10) Dos clientes que já possuem seguro, 80% não têm interesse em adquirir outro seguro\n",
    "**Verdadeiro.** Dos clientes que já possuem seguro, **99,91%** não têm interesse em adquirir outro seguro. Dos que não possuem, **22,54%** possuem interesse."
   ]
  },
  {
   "cell_type": "code",
   "execution_count": 25,
   "id": "a4ee611b",
   "metadata": {
    "ExecuteTime": {
     "end_time": "2021-12-18T00:39:36.188842Z",
     "start_time": "2021-12-18T00:39:35.966492Z"
    },
    "hidden": true,
    "hide_input": true
   },
   "outputs": [
    {
     "name": "stdout",
     "output_type": "stream",
     "text": [
      "Response                   0         1\n",
      "Previously_Insured                    \n",
      "0                   0.774546  0.225454\n",
      "1                   0.999095  0.000905\n"
     ]
    },
    {
     "data": {
      "image/png": "[encoded data removed]",
      "text/plain": [
       "<Figure size 720x432 with 1 Axes>"
      ]
     },
     "metadata": {
      "needs_background": "light"
     },
     "output_type": "display_data"
    }
   ],
   "source": [
    "aux10 = df3[['Insured', 'Response', 'id']].groupby( ['Insured', 'Response'] ).count().reset_index()\n",
    "print(pd.crosstab( df3['Previously_Insured'], df3['Response'] ).apply( lambda x: x / x.sum(), axis = 1 ))\n",
    "\n",
    "plt.figure( figsize = ( 10, 6 ) )\n",
    "sns.barplot( x = 'Insured', y = 'id', hue = 'Response', data = aux10 );"
   ]
  },
  {
   "cell_type": "markdown",
   "id": "125fd882",
   "metadata": {
    "heading_collapsed": true
   },
   "source": [
    "### 3.2.11. 11) Clientes a menos tempo como cliente, possuem 20% mais interesse em adquirir o seguro\n",
    "**Falso.** Clientes a mais tempo como clientes possuem mais interesse em adquirir o seguro do que clientes a menos tempo, **52,95%, 47,05%**, respectivamente."
   ]
  },
  {
   "cell_type": "code",
   "execution_count": 26,
   "id": "288f04ab",
   "metadata": {
    "ExecuteTime": {
     "end_time": "2021-12-18T00:39:36.297641Z",
     "start_time": "2021-12-18T00:39:36.190777Z"
    },
    "hidden": true,
    "hide_input": true
   },
   "outputs": [
    {
     "data": {
      "image/png": "[encoded data removed]",
      "text/plain": [
       "<Figure size 720x432 with 1 Axes>"
      ]
     },
     "metadata": {
      "needs_background": "light"
     },
     "output_type": "display_data"
    }
   ],
   "source": [
    "aux11 = df3[df3['Response'] == 1]\n",
    "\n",
    "aux111 = aux11[['How_Much_Time', 'Response']].groupby( 'How_Much_Time' ).count().reset_index()\n",
    "\n",
    "plt.figure( figsize = ( 10, 6 ) )\n",
    "sns.barplot( x = 'How_Much_Time', y = 'Response', data = aux111 );"
   ]
  },
  {
   "cell_type": "markdown",
   "id": "53fe29c6",
   "metadata": {
    "heading_collapsed": true
   },
   "source": [
    "### 3.2.12. 12) Clientes com Veiculos mais novos possuem mais interesse em adquirir o seguro\n",
    "**Falso.** \n",
    "- Dos clientes que possuem carros novos **4,37%** possuem interesse. \n",
    "- Dos clientes que possuem carros usados **29,39%** possuem interesse. \n",
    "- Dos clientes que possuem carros velhos **17,37%**"
   ]
  },
  {
   "cell_type": "code",
   "execution_count": 27,
   "id": "86b075e5",
   "metadata": {
    "ExecuteTime": {
     "end_time": "2021-12-18T00:39:36.485575Z",
     "start_time": "2021-12-18T00:39:36.303632Z"
    },
    "hidden": true,
    "hide_input": true
   },
   "outputs": [
    {
     "name": "stdout",
     "output_type": "stream",
     "text": [
      "  Age_Vehicle  Response      id\n",
      "0         new         0  157584\n",
      "1         new         1    7202\n",
      "2         old         0   11305\n",
      "3         old         1    4702\n",
      "4    used car         0  165510\n",
      "5    used car         1   34806\n"
     ]
    },
    {
     "data": {
      "image/png": "[encoded data removed]",
      "text/plain": [
       "<Figure size 720x432 with 1 Axes>"
      ]
     },
     "metadata": {
      "needs_background": "light"
     },
     "output_type": "display_data"
    }
   ],
   "source": [
    "aux12 = df3[['Age_Vehicle', 'Response', 'id']].groupby( ['Age_Vehicle', 'Response'] ).count().reset_index()\n",
    "print(aux12)\n",
    "\n",
    "plt.figure( figsize = ( 10, 6 ) )\n",
    "sns.barplot( x = 'Age_Vehicle', y = 'id', hue = 'Response', data = aux12 );"
   ]
  },
  {
   "cell_type": "markdown",
   "id": "f8626b84",
   "metadata": {
    "heading_collapsed": true
   },
   "source": [
    "# 4.0. PREPARACAO DOS DADOS"
   ]
  },
  {
   "cell_type": "code",
   "execution_count": 60,
   "id": "29e21e1a",
   "metadata": {
    "ExecuteTime": {
     "end_time": "2021-12-18T00:55:06.657449Z",
     "start_time": "2021-12-18T00:55:06.552454Z"
    },
    "hidden": true
   },
   "outputs": [],
   "source": [
    "df4 = df3.copy()\n",
    "df4 = df4[['id', 'Gender', 'Age', 'Driving_License', 'Region_Code',\n",
    "       'Previously_Insured', 'Vehicle_Age', 'Vehicle_Damage', 'Annual_Premium',\n",
    "       'Policy_Sales_Channel', 'Vintage', 'Response']]"
   ]
  },
  {
   "cell_type": "markdown",
   "id": "db4e5043",
   "metadata": {
    "hidden": true
   },
   "source": [
    "## 4.1. TREINO E TEST"
   ]
  },
  {
   "cell_type": "code",
   "execution_count": 61,
   "id": "747709aa",
   "metadata": {
    "ExecuteTime": {
     "end_time": "2021-12-18T00:55:07.641962Z",
     "start_time": "2021-12-18T00:55:07.493758Z"
    },
    "hidden": true
   },
   "outputs": [],
   "source": [
    "x = df4.drop( 'Response', axis = 1 )\n",
    "y = df4['Response'].copy()\n",
    "\n",
    "x_train, x_validation, y_train, y_validation = ms.train_test_split( x, y, test_size = 0.20)\n",
    "\n",
    "df4 = pd.concat( [x_train, y_train], axis = 1 )"
   ]
  },
  {
   "cell_type": "markdown",
   "id": "ec8dfbf8",
   "metadata": {
    "hidden": true
   },
   "source": [
    "## 4.2. NORMALIZACAO"
   ]
  },
  {
   "cell_type": "code",
   "execution_count": 62,
   "id": "ace0ad56",
   "metadata": {
    "ExecuteTime": {
     "end_time": "2021-12-18T00:55:08.658432Z",
     "start_time": "2021-12-18T00:55:08.606802Z"
    },
    "hidden": true
   },
   "outputs": [],
   "source": [
    "# annual_premium\n",
    "ss = pp.StandardScaler()\n",
    "\n",
    "df4['Annual_Premium'] = ss.fit_transform( df4[['Annual_Premium']].values )"
   ]
  },
  {
   "cell_type": "markdown",
   "id": "cad74232",
   "metadata": {
    "hidden": true
   },
   "source": [
    "## 4.3. RESCALING"
   ]
  },
  {
   "cell_type": "code",
   "execution_count": 63,
   "id": "ebbd4d9c",
   "metadata": {
    "ExecuteTime": {
     "end_time": "2021-12-18T00:55:09.710476Z",
     "start_time": "2021-12-18T00:55:09.658936Z"
    },
    "hidden": true
   },
   "outputs": [],
   "source": [
    "mm_age = pp.MinMaxScaler()\n",
    "mm_vintage = pp.MinMaxScaler()\n",
    "\n",
    "#age\n",
    "df4['Age'] = mm_age.fit_transform( df4[['Age']].values )\n",
    "\n",
    "#vintage\n",
    "df4['Vintage'] = mm_vintage.fit_transform( df4[['Vintage']].values )\n"
   ]
  },
  {
   "cell_type": "markdown",
   "id": "d2f989c5",
   "metadata": {
    "hidden": true
   },
   "source": [
    "## 4.4. ENCODER"
   ]
  },
  {
   "cell_type": "code",
   "execution_count": 64,
   "id": "93fb4959",
   "metadata": {
    "ExecuteTime": {
     "end_time": "2021-12-18T00:55:11.410809Z",
     "start_time": "2021-12-18T00:55:11.251292Z"
    },
    "hidden": true
   },
   "outputs": [],
   "source": [
    "#gender - target enconding\n",
    "target_encoding_gender = df4.groupby( 'Gender' )['Response'].mean()\n",
    "df4.loc[:, 'Gender'] = df4['Gender'].map( target_encoding_gender )\n",
    "\n",
    "# region_code - Quando há muitos niveis na variável categórica +6 usar target encoding \n",
    "target_encoding_region_encoding = df4.groupby( 'Region_Code' )['Response'].mean()\n",
    "df4.loc[:, 'Region_Code'] = df4['Region_Code'].map( target_encoding_region_encoding )\n",
    "\n",
    "# vehicle_age - One Hot Encoding ou Order Encoding \n",
    "df4 = pd.get_dummies( df4, prefix= 'Vehicle_Age', columns = ['Vehicle_Age'] )\n",
    "\n",
    "# policy_sales_channel Targer encoding / Frequency encoding\n",
    "fe_policy_sales_channel = df4.groupby( 'Policy_Sales_Channel' ).size() / len( df4 )\n",
    "df4.loc[:, 'Policy_Sales_Channel'] = df4['Policy_Sales_Channel'].map( fe_policy_sales_channel )"
   ]
  },
  {
   "cell_type": "markdown",
   "id": "57d2f712",
   "metadata": {
    "hidden": true
   },
   "source": [
    "## 4.5. TEST PREPARATION"
   ]
  },
  {
   "cell_type": "code",
   "execution_count": 65,
   "id": "9b2da0c1",
   "metadata": {
    "ExecuteTime": {
     "end_time": "2021-12-18T00:55:12.701192Z",
     "start_time": "2021-12-18T00:55:12.623983Z"
    },
    "hidden": true
   },
   "outputs": [],
   "source": [
    "#annual_premium\n",
    "x_validation['Annual_Premium'] = ss.fit_transform( x_validation[['Annual_Premium']].values )\n",
    "\n",
    "#age\n",
    "x_validation['Age'] = mm_age.fit_transform( x_validation[['Age']].values )\n",
    "\n",
    "#vintage\n",
    "x_validation['Vintage'] = mm_vintage.fit_transform( x_validation[['Vintage']].values )\n",
    "\n",
    "#gender - target enconding\n",
    "x_validation.loc[:, 'Gender'] = x_validation['Gender'].map( target_encoding_gender )\n",
    "\n",
    "# region_code - Quando há muitos niveis na variável categórica +6 usar target encoding \n",
    "x_validation.loc[:, 'Region_Code'] = x_validation['Region_Code'].map( target_encoding_region_encoding )\n",
    "\n",
    "# vehicle_age - One Hot Encoding ou Order Encoding \n",
    "x_validation= pd.get_dummies( x_validation, prefix= 'Vehicle_Age', columns = ['Vehicle_Age'] )\n",
    "\n",
    "# policy_sales_channel Targer encoding / Frequency encoding\n",
    "x_validation.loc[:, 'Policy_Sales_Channel'] = x_validation['Policy_Sales_Channel'].map( fe_policy_sales_channel )\n",
    "\n",
    "#fillna\n",
    "x_validation = x_validation.fillna( 0 )"
   ]
  },
  {
   "cell_type": "markdown",
   "id": "3f6769e4",
   "metadata": {
    "ExecuteTime": {
     "end_time": "2021-12-09T11:13:17.992530Z",
     "start_time": "2021-12-09T11:13:17.963977Z"
    }
   },
   "source": [
    "# 5.0. FEATURE SELECTION"
   ]
  },
  {
   "cell_type": "markdown",
   "id": "6468edf9",
   "metadata": {
    "ExecuteTime": {
     "end_time": "2021-12-09T11:14:10.486103Z",
     "start_time": "2021-12-09T11:14:10.464767Z"
    }
   },
   "source": [
    "## 5.1. FEATURE IMPORTANCE"
   ]
  },
  {
   "cell_type": "code",
   "execution_count": 66,
   "id": "5a3ac1e3",
   "metadata": {
    "ExecuteTime": {
     "end_time": "2021-12-18T00:56:22.412499Z",
     "start_time": "2021-12-18T00:55:18.526495Z"
    }
   },
   "outputs": [
    {
     "data": {
      "text/plain": [
       "ExtraTreesClassifier(n_estimators=250, n_jobs=1, random_state=0)"
      ]
     },
     "execution_count": 66,
     "metadata": {},
     "output_type": "execute_result"
    }
   ],
   "source": [
    "# definicao do modelo\n",
    "forest = en.ExtraTreesClassifier( n_estimators= 250, random_state = 0, n_jobs = 1 )\n",
    "\n",
    "# data preparation\n",
    "x_train_n = df4.drop( ['id', 'Response'], axis = 1 )\n",
    "y_train_n = y_train.values\n",
    "forest.fit( x_train_n, y_train_n )"
   ]
  },
  {
   "cell_type": "code",
   "execution_count": 67,
   "id": "926583f0",
   "metadata": {
    "ExecuteTime": {
     "end_time": "2021-12-18T00:56:24.106456Z",
     "start_time": "2021-12-18T00:56:22.414777Z"
    }
   },
   "outputs": [
    {
     "name": "stdout",
     "output_type": "stream",
     "text": [
      "Feature Ranking\n",
      "                 feature  importances\n",
      "0                Vintage     0.272879\n",
      "0         Annual_Premium     0.244662\n",
      "0                    Age     0.167080\n",
      "0            Region_Code     0.103884\n",
      "0         Vehicle_Damage     0.068559\n",
      "0   Policy_Sales_Channel     0.059606\n",
      "0     Previously_Insured     0.055710\n",
      "0   Vehicle_Age_< 1 Year     0.013705\n",
      "0   Vehicle_Age_1-2 Year     0.006442\n",
      "0                 Gender     0.004770\n",
      "0  Vehicle_Age_> 2 Years     0.002216\n",
      "0        Driving_License     0.000487\n"
     ]
    },
    {
     "data": {
      "image/png": "[encoded data removed]",
      "text/plain": [
       "<Figure size 720x432 with 1 Axes>"
      ]
     },
     "metadata": {
      "needs_background": "light"
     },
     "output_type": "display_data"
    }
   ],
   "source": [
    "importances = forest.feature_importances_\n",
    "std = np.std([tree.feature_importances_ for tree in forest.estimators_], axis = 0 )\n",
    "indices = np.argsort( importances )[::-1]\n",
    "\n",
    "#print ranking das features\n",
    "print( 'Feature Ranking' )\n",
    "df = pd.DataFrame()\n",
    "for i, j in zip( x_train_n, forest.feature_importances_ ):\n",
    "    aux = pd.DataFrame( {'feature': i, 'importances': j}, index = [0] )\n",
    "    df = pd.concat( [df, aux], axis = 0 )\n",
    "    \n",
    "print( df.sort_values( 'importances', ascending = False ) )\n",
    "\n",
    "# plot da importancia das features baseda na imporeza da forest\n",
    "plt.figure( figsize = ( 10, 6 ))\n",
    "plt.bar( range( x_train_n.shape[1] ), importances[indices], color = 'r', yerr = std[indices], align = 'center'  )\n",
    "plt.xticks( range( x_train_n.shape[1] ), indices )\n",
    "plt.xlim( [-1, x_train_n.shape[1]] )\n",
    "plt.show()"
   ]
  },
  {
   "cell_type": "markdown",
   "id": "1fb06954",
   "metadata": {},
   "source": [
    "# 6.0 MACHINE LEARNING"
   ]
  },
  {
   "cell_type": "code",
   "execution_count": 68,
   "id": "7f1bb6eb",
   "metadata": {
    "ExecuteTime": {
     "end_time": "2021-12-18T00:56:24.136739Z",
     "start_time": "2021-12-18T00:56:24.108457Z"
    }
   },
   "outputs": [],
   "source": [
    "cols_selected = ['Vintage', 'Annual_Premium', 'Age', 'Region_Code', 'Vehicle_Damage',\n",
    "                 'Policy_Sales_Channel', 'Previously_Insured']\n",
    "\n",
    "x_train = df4[cols_selected]\n",
    "x_test = x_validation[cols_selected]\n",
    "y_test = y_validation.copy()"
   ]
  },
  {
   "cell_type": "markdown",
   "id": "8794d067",
   "metadata": {
    "ExecuteTime": {
     "end_time": "2021-12-13T10:36:33.173622Z",
     "start_time": "2021-12-13T10:36:33.148162Z"
    }
   },
   "source": [
    "## 6.1. KNN"
   ]
  },
  {
   "cell_type": "code",
   "execution_count": 69,
   "id": "bde0c6eb",
   "metadata": {
    "ExecuteTime": {
     "end_time": "2021-12-18T00:56:33.194019Z",
     "start_time": "2021-12-18T00:56:24.139653Z"
    }
   },
   "outputs": [],
   "source": [
    "#definição do modelo\n",
    "knn_model = nh.KNeighborsClassifier( n_neighbors = 7 )\n",
    "\n",
    "#treino do modelo\n",
    "knn_model.fit( x_train, y_train )\n",
    "\n",
    "#predição do modelo - poder de generalização\n",
    "yhat_knn = knn_model.predict_proba( x_test )"
   ]
  },
  {
   "cell_type": "code",
   "execution_count": 70,
   "id": "b2b5fad5",
   "metadata": {
    "ExecuteTime": {
     "end_time": "2021-12-18T00:56:33.380975Z",
     "start_time": "2021-12-18T00:56:33.195167Z"
    }
   },
   "outputs": [
    {
     "data": {
      "image/png": "[encoded data removed]",
      "text/plain": [
       "<Figure size 432x288 with 1 Axes>"
      ]
     },
     "metadata": {
      "needs_background": "light"
     },
     "output_type": "display_data"
    }
   ],
   "source": [
    "#cumulative gain curve\n",
    "skplt.metrics.plot_cumulative_gain( y_test, yhat_knn );"
   ]
  },
  {
   "cell_type": "markdown",
   "id": "0e43400b",
   "metadata": {
    "ExecuteTime": {
     "end_time": "2021-12-13T10:52:21.340328Z",
     "start_time": "2021-12-13T10:52:21.325523Z"
    }
   },
   "source": [
    "- Com **20%** da base ordenada é possível atingir **50%** dos clientes interessados\n",
    "\n",
    "- Com **40%** da base ordenada é possível atingir **85%** dos clientes interessados"
   ]
  },
  {
   "cell_type": "markdown",
   "id": "1db2ba4c",
   "metadata": {},
   "source": [
    "## 6.2. LINEAR REGRESSOR"
   ]
  },
  {
   "cell_type": "code",
   "execution_count": 71,
   "id": "7b51c596",
   "metadata": {
    "ExecuteTime": {
     "end_time": "2021-12-18T00:56:34.474234Z",
     "start_time": "2021-12-18T00:56:33.380975Z"
    }
   },
   "outputs": [],
   "source": [
    "#definicao do modelo\n",
    "lr_model = lm.LogisticRegression( random_state = 0 )\n",
    "\n",
    "#treino do modelo\n",
    "lr_model.fit( x_train, y_train )\n",
    "\n",
    "#predicao do modelo\n",
    "yhat_lr = lr_model.predict_proba( x_test )"
   ]
  },
  {
   "cell_type": "code",
   "execution_count": 72,
   "id": "686118e5",
   "metadata": {
    "ExecuteTime": {
     "end_time": "2021-12-18T00:56:34.630406Z",
     "start_time": "2021-12-18T00:56:34.474728Z"
    }
   },
   "outputs": [
    {
     "data": {
      "image/png": "[encoded data removed]",
      "text/plain": [
       "<Figure size 432x288 with 1 Axes>"
      ]
     },
     "metadata": {
      "needs_background": "light"
     },
     "output_type": "display_data"
    }
   ],
   "source": [
    "#cumulative gain curve\n",
    "skplt.metrics.plot_cumulative_gain( y_test, yhat_lr );"
   ]
  },
  {
   "cell_type": "markdown",
   "id": "bfdc2037",
   "metadata": {
    "ExecuteTime": {
     "end_time": "2021-12-13T11:22:00.097965Z",
     "start_time": "2021-12-13T11:22:00.079338Z"
    }
   },
   "source": [
    "- Com **20%** da base ordenada é possível atingir **45%** dos clientes interessados\n",
    "- Com **50%** da base ordenada é possível atingir praticamente **100%** dos clientes interessados"
   ]
  },
  {
   "cell_type": "markdown",
   "id": "324e4d95",
   "metadata": {
    "ExecuteTime": {
     "end_time": "2021-12-13T11:14:55.638798Z",
     "start_time": "2021-12-13T11:14:55.608638Z"
    }
   },
   "source": [
    "## 6.3. RANDOM FOREST"
   ]
  },
  {
   "cell_type": "code",
   "execution_count": 73,
   "id": "83914150",
   "metadata": {
    "ExecuteTime": {
     "end_time": "2021-12-18T00:57:08.741892Z",
     "start_time": "2021-12-18T00:56:34.632450Z"
    }
   },
   "outputs": [],
   "source": [
    "#definicao do modelo\n",
    "rf_model = en.RandomForestClassifier()\n",
    "\n",
    "#treino do modelo\n",
    "rf_model.fit( x_train, y_train )\n",
    "\n",
    "#predicao do modelo \n",
    "yhat_rf = rf_model.predict_proba( x_test )"
   ]
  },
  {
   "cell_type": "code",
   "execution_count": 74,
   "id": "abae611a",
   "metadata": {
    "ExecuteTime": {
     "end_time": "2021-12-18T00:57:08.927592Z",
     "start_time": "2021-12-18T00:57:08.741892Z"
    }
   },
   "outputs": [
    {
     "data": {
      "image/png": "[encoded data removed]",
      "text/plain": [
       "<Figure size 432x288 with 1 Axes>"
      ]
     },
     "metadata": {
      "needs_background": "light"
     },
     "output_type": "display_data"
    }
   ],
   "source": [
    "#cumulative gain curve\n",
    "skplt.metrics.plot_cumulative_gain( y_test, yhat_rf );"
   ]
  },
  {
   "cell_type": "markdown",
   "id": "caa6b5a6",
   "metadata": {
    "ExecuteTime": {
     "end_time": "2021-12-13T11:22:11.747727Z",
     "start_time": "2021-12-13T11:22:11.739721Z"
    }
   },
   "source": [
    "- Com **20%** da base ordenada é possível atingir **55%** dos clientes interessados\n",
    "- Com **50%** da base ordenada é possível atingir praticamente **100%** dos clientes interessados"
   ]
  },
  {
   "cell_type": "markdown",
   "id": "b2b65f70",
   "metadata": {},
   "source": [
    "## 6.4. XGBoost"
   ]
  },
  {
   "cell_type": "code",
   "execution_count": 75,
   "id": "5e75315f",
   "metadata": {
    "ExecuteTime": {
     "end_time": "2021-12-18T00:57:18.301585Z",
     "start_time": "2021-12-18T00:57:08.931064Z"
    }
   },
   "outputs": [],
   "source": [
    "#definicao do modelo\n",
    "xgb_model = xgb.XGBClassifier( objective = 'binary:logistic',\n",
    "                               n_estimators = 100,\n",
    "                               eval_metric = \"logloss\")\n",
    "\n",
    "#treino do modelo\n",
    "xgb_model.fit( x_train, y_train )\n",
    "\n",
    "#predicao do modelo\n",
    "yhat_xgb = xgb_model.predict_proba( x_test )"
   ]
  },
  {
   "cell_type": "code",
   "execution_count": 76,
   "id": "b0bc366f",
   "metadata": {
    "ExecuteTime": {
     "end_time": "2021-12-18T00:57:18.474447Z",
     "start_time": "2021-12-18T00:57:18.302085Z"
    }
   },
   "outputs": [
    {
     "data": {
      "image/png": "[encoded data removed]",
      "text/plain": [
       "<Figure size 432x288 with 1 Axes>"
      ]
     },
     "metadata": {
      "needs_background": "light"
     },
     "output_type": "display_data"
    }
   ],
   "source": [
    "#cumulative gain curve\n",
    "skplt.metrics.plot_cumulative_gain( y_test, yhat_xgb );"
   ]
  },
  {
   "cell_type": "markdown",
   "id": "bffb04d7",
   "metadata": {},
   "source": [
    "- Com **20%** da base ordenada é possível atingit praticamente **60%** dos clientes interessados\n",
    "- Com **50%** da base ordenada é possível atingir praticamente **100%** dos clientes interessados"
   ]
  },
  {
   "cell_type": "markdown",
   "id": "ef55f27f",
   "metadata": {},
   "source": [
    "## 6.5. EXTRA TREES"
   ]
  },
  {
   "cell_type": "code",
   "execution_count": 77,
   "id": "f9e1b19a",
   "metadata": {
    "ExecuteTime": {
     "end_time": "2021-12-18T00:57:32.953344Z",
     "start_time": "2021-12-18T00:57:18.474447Z"
    }
   },
   "outputs": [],
   "source": [
    "#model definition\n",
    "et = en.ExtraTreesClassifier( n_estimators = 100, n_jobs = -1, random_state = 42 )\n",
    "\n",
    "#treinamento do modelo\n",
    "et.fit( x_train, y_train )\n",
    "\n",
    "#predicao do modelo\n",
    "yhat_et = et.predict_proba( x_test )"
   ]
  },
  {
   "cell_type": "code",
   "execution_count": 78,
   "id": "ac389af4",
   "metadata": {
    "ExecuteTime": {
     "end_time": "2021-12-18T00:57:33.203464Z",
     "start_time": "2021-12-18T00:57:32.956490Z"
    }
   },
   "outputs": [
    {
     "data": {
      "image/png": "[encoded data removed]",
      "text/plain": [
       "<Figure size 432x288 with 1 Axes>"
      ]
     },
     "metadata": {
      "needs_background": "light"
     },
     "output_type": "display_data"
    }
   ],
   "source": [
    "skplt.metrics.plot_cumulative_gain( y_test, yhat_et );"
   ]
  },
  {
   "cell_type": "markdown",
   "id": "6d5d92dd",
   "metadata": {},
   "source": [
    "# 7.0. MODEL PERFORMANCE"
   ]
  },
  {
   "cell_type": "code",
   "execution_count": 79,
   "id": "ac001454",
   "metadata": {
    "ExecuteTime": {
     "end_time": "2021-12-18T00:57:33.376741Z",
     "start_time": "2021-12-18T00:57:33.213695Z"
    }
   },
   "outputs": [],
   "source": [
    "df7 = x_validation.copy()\n",
    "df7['Response'] = y_test.copy()\n",
    "\n",
    "#propensity score\n",
    "df7['Score'] = yhat_knn[:, 1].tolist()\n",
    "\n",
    "#sort_values by propensity score\n",
    "df7 = df7.sort_values( 'Score', ascending = False )\n",
    "\n"
   ]
  },
  {
   "cell_type": "code",
   "execution_count": 80,
   "id": "b9b16645",
   "metadata": {
    "ExecuteTime": {
     "end_time": "2021-12-18T00:57:33.406437Z",
     "start_time": "2021-12-18T00:57:33.378957Z"
    }
   },
   "outputs": [],
   "source": [
    "def precision_at_k( data, k ):\n",
    "    data = data.reset_index( drop = True )\n",
    "\n",
    "    data['Ranking'] = data.index + 1\n",
    "\n",
    "    data['Precision_at_k'] = data['Response'].cumsum() / data['Ranking']\n",
    "    \n",
    "    return data.loc[k, 'Precision_at_k']"
   ]
  },
  {
   "cell_type": "code",
   "execution_count": 81,
   "id": "e08cac6f",
   "metadata": {
    "ExecuteTime": {
     "end_time": "2021-12-18T00:57:33.430001Z",
     "start_time": "2021-12-18T00:57:33.408208Z"
    }
   },
   "outputs": [],
   "source": [
    "def recall_at_k( data, k ):\n",
    "    data = data.reset_index( drop = True )\n",
    "\n",
    "    data['Ranking'] = data.index + 1\n",
    "\n",
    "    data['Recall_at_k'] = data['Response'].cumsum() / data['Response'].sum()\n",
    "    \n",
    "    return data.loc[k, 'Recall_at_k']"
   ]
  },
  {
   "cell_type": "code",
   "execution_count": 86,
   "id": "de3866ad",
   "metadata": {
    "ExecuteTime": {
     "end_time": "2021-12-18T01:05:58.573330Z",
     "start_time": "2021-12-18T01:05:58.552963Z"
    }
   },
   "outputs": [],
   "source": [
    "df7 = df7.reset_index( drop = True )\n",
    "\n",
    "df7['Ranking'] = df7.index + 1\n",
    "\n",
    "#precision\n",
    "df7['Precision_at_k'] = df7['Response'].cumsum() / df7['Ranking']\n",
    "\n",
    "#recall\n",
    "df7['Recall_at_k'] = df7['Response'].cumsum() / df7['Response'].sum()\n"
   ]
  },
  {
   "cell_type": "code",
   "execution_count": 87,
   "id": "6c219bb3",
   "metadata": {
    "ExecuteTime": {
     "end_time": "2021-12-18T01:06:03.780184Z",
     "start_time": "2021-12-18T01:06:03.730897Z"
    }
   },
   "outputs": [
    {
     "name": "stdout",
     "output_type": "stream",
     "text": [
      "Precision at K: 0.6363636363636364\n",
      "Recall at K: 0.0007463482247574368\n"
     ]
    }
   ],
   "source": [
    "precision_at_35 = precision_at_k( df7, k = 10 )\n",
    "print( 'Precision at K: {}'.format( precision_at_35) )\n",
    "\n",
    "recall_at_35 = recall_at_k( df7, k = 10 )\n",
    "print( 'Recall at K: {}'.format( recall_at_35) )"
   ]
  },
  {
   "cell_type": "code",
   "execution_count": 89,
   "id": "ed85930b",
   "metadata": {
    "ExecuteTime": {
     "end_time": "2021-12-18T01:22:10.205148Z",
     "start_time": "2021-12-18T01:22:10.143592Z"
    }
   },
   "outputs": [
    {
     "data": {
      "text/html": [
       "<div>\n",
       "<style scoped>\n",
       "    .dataframe tbody tr th:only-of-type {\n",
       "        vertical-align: middle;\n",
       "    }\n",
       "\n",
       "    .dataframe tbody tr th {\n",
       "        vertical-align: top;\n",
       "    }\n",
       "\n",
       "    .dataframe thead th {\n",
       "        text-align: right;\n",
       "    }\n",
       "</style>\n",
       "<table border=\"1\" class=\"dataframe\">\n",
       "  <thead>\n",
       "    <tr style=\"text-align: right;\">\n",
       "      <th></th>\n",
       "      <th>id</th>\n",
       "      <th>Gender</th>\n",
       "      <th>Age</th>\n",
       "      <th>Driving_License</th>\n",
       "      <th>Region_Code</th>\n",
       "      <th>Previously_Insured</th>\n",
       "      <th>Vehicle_Damage</th>\n",
       "      <th>Annual_Premium</th>\n",
       "      <th>Policy_Sales_Channel</th>\n",
       "      <th>Vintage</th>\n",
       "      <th>Vehicle_Age_1-2 Year</th>\n",
       "      <th>Vehicle_Age_&lt; 1 Year</th>\n",
       "      <th>Vehicle_Age_&gt; 2 Years</th>\n",
       "      <th>Response</th>\n",
       "      <th>Score</th>\n",
       "      <th>Ranking</th>\n",
       "      <th>Precision_at_k</th>\n",
       "      <th>Recall_at_k</th>\n",
       "    </tr>\n",
       "  </thead>\n",
       "  <tbody>\n",
       "    <tr>\n",
       "      <th>0</th>\n",
       "      <td>331897</td>\n",
       "      <td>0.103856</td>\n",
       "      <td>0.261538</td>\n",
       "      <td>1</td>\n",
       "      <td>0.187300</td>\n",
       "      <td>0</td>\n",
       "      <td>1</td>\n",
       "      <td>-0.052478</td>\n",
       "      <td>0.194505</td>\n",
       "      <td>0.491349</td>\n",
       "      <td>1</td>\n",
       "      <td>0</td>\n",
       "      <td>0</td>\n",
       "      <td>1</td>\n",
       "      <td>1.0</td>\n",
       "      <td>1</td>\n",
       "      <td>1.00</td>\n",
       "      <td>0.000107</td>\n",
       "    </tr>\n",
       "    <tr>\n",
       "      <th>1</th>\n",
       "      <td>31031</td>\n",
       "      <td>0.103856</td>\n",
       "      <td>0.353846</td>\n",
       "      <td>1</td>\n",
       "      <td>0.187300</td>\n",
       "      <td>0</td>\n",
       "      <td>1</td>\n",
       "      <td>0.932041</td>\n",
       "      <td>0.194505</td>\n",
       "      <td>0.698962</td>\n",
       "      <td>1</td>\n",
       "      <td>0</td>\n",
       "      <td>0</td>\n",
       "      <td>1</td>\n",
       "      <td>1.0</td>\n",
       "      <td>2</td>\n",
       "      <td>1.00</td>\n",
       "      <td>0.000213</td>\n",
       "    </tr>\n",
       "    <tr>\n",
       "      <th>2</th>\n",
       "      <td>63232</td>\n",
       "      <td>0.103856</td>\n",
       "      <td>0.369231</td>\n",
       "      <td>1</td>\n",
       "      <td>0.187300</td>\n",
       "      <td>0</td>\n",
       "      <td>1</td>\n",
       "      <td>1.756765</td>\n",
       "      <td>0.209455</td>\n",
       "      <td>0.512111</td>\n",
       "      <td>0</td>\n",
       "      <td>0</td>\n",
       "      <td>1</td>\n",
       "      <td>1</td>\n",
       "      <td>1.0</td>\n",
       "      <td>3</td>\n",
       "      <td>1.00</td>\n",
       "      <td>0.000320</td>\n",
       "    </tr>\n",
       "    <tr>\n",
       "      <th>3</th>\n",
       "      <td>73950</td>\n",
       "      <td>0.103856</td>\n",
       "      <td>0.200000</td>\n",
       "      <td>1</td>\n",
       "      <td>0.132347</td>\n",
       "      <td>0</td>\n",
       "      <td>1</td>\n",
       "      <td>0.157404</td>\n",
       "      <td>0.194505</td>\n",
       "      <td>0.103806</td>\n",
       "      <td>0</td>\n",
       "      <td>1</td>\n",
       "      <td>0</td>\n",
       "      <td>0</td>\n",
       "      <td>1.0</td>\n",
       "      <td>4</td>\n",
       "      <td>0.75</td>\n",
       "      <td>0.000320</td>\n",
       "    </tr>\n",
       "    <tr>\n",
       "      <th>4</th>\n",
       "      <td>93812</td>\n",
       "      <td>0.103856</td>\n",
       "      <td>0.292308</td>\n",
       "      <td>1</td>\n",
       "      <td>0.187300</td>\n",
       "      <td>0</td>\n",
       "      <td>1</td>\n",
       "      <td>0.099126</td>\n",
       "      <td>0.209455</td>\n",
       "      <td>0.975779</td>\n",
       "      <td>1</td>\n",
       "      <td>0</td>\n",
       "      <td>0</td>\n",
       "      <td>1</td>\n",
       "      <td>1.0</td>\n",
       "      <td>5</td>\n",
       "      <td>0.80</td>\n",
       "      <td>0.000426</td>\n",
       "    </tr>\n",
       "  </tbody>\n",
       "</table>\n",
       "</div>"
      ],
      "text/plain": [
       "       id    Gender       Age  Driving_License  Region_Code  \\\n",
       "0  331897  0.103856  0.261538                1     0.187300   \n",
       "1   31031  0.103856  0.353846                1     0.187300   \n",
       "2   63232  0.103856  0.369231                1     0.187300   \n",
       "3   73950  0.103856  0.200000                1     0.132347   \n",
       "4   93812  0.103856  0.292308                1     0.187300   \n",
       "\n",
       "   Previously_Insured  Vehicle_Damage  Annual_Premium  Policy_Sales_Channel  \\\n",
       "0                   0               1       -0.052478              0.194505   \n",
       "1                   0               1        0.932041              0.194505   \n",
       "2                   0               1        1.756765              0.209455   \n",
       "3                   0               1        0.157404              0.194505   \n",
       "4                   0               1        0.099126              0.209455   \n",
       "\n",
       "    Vintage  Vehicle_Age_1-2 Year  Vehicle_Age_< 1 Year  \\\n",
       "0  0.491349                     1                     0   \n",
       "1  0.698962                     1                     0   \n",
       "2  0.512111                     0                     0   \n",
       "3  0.103806                     0                     1   \n",
       "4  0.975779                     1                     0   \n",
       "\n",
       "   Vehicle_Age_> 2 Years  Response  Score  Ranking  Precision_at_k  \\\n",
       "0                      0         1    1.0        1            1.00   \n",
       "1                      0         1    1.0        2            1.00   \n",
       "2                      1         1    1.0        3            1.00   \n",
       "3                      0         0    1.0        4            0.75   \n",
       "4                      0         1    1.0        5            0.80   \n",
       "\n",
       "   Recall_at_k  \n",
       "0     0.000107  \n",
       "1     0.000213  \n",
       "2     0.000320  \n",
       "3     0.000320  \n",
       "4     0.000426  "
      ]
     },
     "execution_count": 89,
     "metadata": {},
     "output_type": "execute_result"
    }
   ],
   "source": [
    "df7.head()"
   ]
  },
  {
   "cell_type": "code",
   "execution_count": null,
   "id": "cddf1fa5",
   "metadata": {},
   "outputs": [],
   "source": []
  }
 ],
 "metadata": {
  "kernelspec": {
   "display_name": "Python 3 (ipykernel)",
   "language": "python",
   "name": "python3"
  },
  "language_info": {
   "codemirror_mode": {
    "name": "ipython",
    "version": 3
   },
   "file_extension": ".py",
   "mimetype": "text/x-python",
   "name": "python",
   "nbconvert_exporter": "python",
   "pygments_lexer": "ipython3",
   "version": "3.8.12"
  }
 },
 "nbformat": 4,
 "nbformat_minor": 5
}
